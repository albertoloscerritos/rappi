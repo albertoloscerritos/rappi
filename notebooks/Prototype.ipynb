{
 "cells": [
  {
   "cell_type": "markdown",
   "id": "704a40ae-6a63-4c6b-989b-0bbbe7d08d0f",
   "metadata": {},
   "source": [
    "# Create and clean the basic Dataframe"
   ]
  },
  {
   "cell_type": "code",
   "execution_count": 1,
   "id": "0e5d95ed-c0d3-4f04-9991-e454dac02584",
   "metadata": {},
   "outputs": [],
   "source": [
    "RANDOM_SEED = 42"
   ]
  },
  {
   "cell_type": "code",
   "execution_count": 2,
   "id": "aca1121f-8676-4f2f-848d-a8f68cc3fd09",
   "metadata": {},
   "outputs": [],
   "source": [
    "import pandas as pd\n",
    "import numpy as np\n",
    "import matplotlib.pyplot as plt\n",
    "\n",
    "%matplotlib inline"
   ]
  },
  {
   "cell_type": "code",
   "execution_count": 3,
   "id": "684858f5-217a-4a1d-bfde-693f852df643",
   "metadata": {},
   "outputs": [
    {
     "data": {
      "text/plain": [
       "(26975, 16)"
      ]
     },
     "execution_count": 3,
     "metadata": {},
     "output_type": "execute_result"
    }
   ],
   "source": [
    "df_pre = pd.read_csv('files/fraud.csv')\n",
    "df_pre.shape"
   ]
  },
  {
   "cell_type": "code",
   "execution_count": 4,
   "id": "85263746-fa2c-4339-ba7c-c94e27e4df30",
   "metadata": {},
   "outputs": [
    {
     "data": {
      "text/html": [
       "<div>\n",
       "<style scoped>\n",
       "    .dataframe tbody tr th:only-of-type {\n",
       "        vertical-align: middle;\n",
       "    }\n",
       "\n",
       "    .dataframe tbody tr th {\n",
       "        vertical-align: top;\n",
       "    }\n",
       "\n",
       "    .dataframe thead th {\n",
       "        text-align: right;\n",
       "    }\n",
       "</style>\n",
       "<table border=\"1\" class=\"dataframe\">\n",
       "  <thead>\n",
       "    <tr style=\"text-align: right;\">\n",
       "      <th></th>\n",
       "      <th>ID_USER</th>\n",
       "      <th>genero</th>\n",
       "      <th>monto</th>\n",
       "      <th>fecha</th>\n",
       "      <th>hora</th>\n",
       "      <th>dispositivo</th>\n",
       "      <th>establecimiento</th>\n",
       "      <th>ciudad</th>\n",
       "      <th>tipo_tc</th>\n",
       "      <th>linea_tc</th>\n",
       "      <th>interes_tc</th>\n",
       "      <th>status_txn</th>\n",
       "      <th>is_prime</th>\n",
       "      <th>dcto</th>\n",
       "      <th>cashback</th>\n",
       "      <th>fraude</th>\n",
       "    </tr>\n",
       "  </thead>\n",
       "  <tbody>\n",
       "    <tr>\n",
       "      <th>0</th>\n",
       "      <td>0</td>\n",
       "      <td>F</td>\n",
       "      <td>608.345634</td>\n",
       "      <td>2020-01-21</td>\n",
       "      <td>20</td>\n",
       "      <td>{'model': 2020, 'device_score': 3, 'os': 'ANDR...</td>\n",
       "      <td>Super</td>\n",
       "      <td>Merida</td>\n",
       "      <td>Física</td>\n",
       "      <td>71000</td>\n",
       "      <td>51</td>\n",
       "      <td>Aceptada</td>\n",
       "      <td>False</td>\n",
       "      <td>60.834563</td>\n",
       "      <td>5.475111</td>\n",
       "      <td>False</td>\n",
       "    </tr>\n",
       "    <tr>\n",
       "      <th>1</th>\n",
       "      <td>0</td>\n",
       "      <td>F</td>\n",
       "      <td>88.719243</td>\n",
       "      <td>2020-01-15</td>\n",
       "      <td>7</td>\n",
       "      <td>{'model': 2020, 'device_score': 1, 'os': 'ANDR...</td>\n",
       "      <td>NaN</td>\n",
       "      <td>Merida</td>\n",
       "      <td>Virtual</td>\n",
       "      <td>71000</td>\n",
       "      <td>51</td>\n",
       "      <td>Aceptada</td>\n",
       "      <td>False</td>\n",
       "      <td>0.000000</td>\n",
       "      <td>1.774385</td>\n",
       "      <td>False</td>\n",
       "    </tr>\n",
       "    <tr>\n",
       "      <th>2</th>\n",
       "      <td>1</td>\n",
       "      <td>F</td>\n",
       "      <td>790.037653</td>\n",
       "      <td>2020-01-17</td>\n",
       "      <td>11</td>\n",
       "      <td>{'model': 2020, 'device_score': 1, 'os': '.'}</td>\n",
       "      <td>NaN</td>\n",
       "      <td>Guadalajara</td>\n",
       "      <td>Virtual</td>\n",
       "      <td>94000</td>\n",
       "      <td>56</td>\n",
       "      <td>En proceso</td>\n",
       "      <td>False</td>\n",
       "      <td>0.000000</td>\n",
       "      <td>15.800753</td>\n",
       "      <td>False</td>\n",
       "    </tr>\n",
       "    <tr>\n",
       "      <th>3</th>\n",
       "      <td>1</td>\n",
       "      <td>F</td>\n",
       "      <td>767.005387</td>\n",
       "      <td>2020-01-05</td>\n",
       "      <td>11</td>\n",
       "      <td>{'model': 2020, 'device_score': 3, 'os': 'WEB'}</td>\n",
       "      <td>MPago</td>\n",
       "      <td>Guadalajara</td>\n",
       "      <td>Física</td>\n",
       "      <td>94000</td>\n",
       "      <td>56</td>\n",
       "      <td>Aceptada</td>\n",
       "      <td>False</td>\n",
       "      <td>0.000000</td>\n",
       "      <td>7.670054</td>\n",
       "      <td>False</td>\n",
       "    </tr>\n",
       "    <tr>\n",
       "      <th>4</th>\n",
       "      <td>1</td>\n",
       "      <td>F</td>\n",
       "      <td>254.171053</td>\n",
       "      <td>2020-01-30</td>\n",
       "      <td>10</td>\n",
       "      <td>{'model': 2020, 'device_score': 3, 'os': '%%'}</td>\n",
       "      <td>NaN</td>\n",
       "      <td>Guadalajara</td>\n",
       "      <td>Física</td>\n",
       "      <td>94000</td>\n",
       "      <td>56</td>\n",
       "      <td>Aceptada</td>\n",
       "      <td>False</td>\n",
       "      <td>0.000000</td>\n",
       "      <td>2.541711</td>\n",
       "      <td>False</td>\n",
       "    </tr>\n",
       "  </tbody>\n",
       "</table>\n",
       "</div>"
      ],
      "text/plain": [
       "   ID_USER genero       monto       fecha  hora  \\\n",
       "0        0      F  608.345634  2020-01-21    20   \n",
       "1        0      F   88.719243  2020-01-15     7   \n",
       "2        1      F  790.037653  2020-01-17    11   \n",
       "3        1      F  767.005387  2020-01-05    11   \n",
       "4        1      F  254.171053  2020-01-30    10   \n",
       "\n",
       "                                         dispositivo establecimiento  \\\n",
       "0  {'model': 2020, 'device_score': 3, 'os': 'ANDR...           Super   \n",
       "1  {'model': 2020, 'device_score': 1, 'os': 'ANDR...             NaN   \n",
       "2      {'model': 2020, 'device_score': 1, 'os': '.'}             NaN   \n",
       "3    {'model': 2020, 'device_score': 3, 'os': 'WEB'}           MPago   \n",
       "4     {'model': 2020, 'device_score': 3, 'os': '%%'}             NaN   \n",
       "\n",
       "        ciudad  tipo_tc  linea_tc  interes_tc  status_txn  is_prime  \\\n",
       "0       Merida   Física     71000          51    Aceptada     False   \n",
       "1       Merida  Virtual     71000          51    Aceptada     False   \n",
       "2  Guadalajara  Virtual     94000          56  En proceso     False   \n",
       "3  Guadalajara   Física     94000          56    Aceptada     False   \n",
       "4  Guadalajara   Física     94000          56    Aceptada     False   \n",
       "\n",
       "        dcto   cashback  fraude  \n",
       "0  60.834563   5.475111   False  \n",
       "1   0.000000   1.774385   False  \n",
       "2   0.000000  15.800753   False  \n",
       "3   0.000000   7.670054   False  \n",
       "4   0.000000   2.541711   False  "
      ]
     },
     "execution_count": 4,
     "metadata": {},
     "output_type": "execute_result"
    }
   ],
   "source": [
    "#exp\n",
    "df_pre.head()"
   ]
  },
  {
   "cell_type": "code",
   "execution_count": 5,
   "id": "d3c5d875-638a-4b25-bcdf-d3b2d671c5fc",
   "metadata": {},
   "outputs": [],
   "source": [
    "df_pre['fecha_hora'] = pd.to_datetime(df_pre.fecha) + df_pre.hora.astype('timedelta64[h]')"
   ]
  },
  {
   "cell_type": "code",
   "execution_count": 6,
   "id": "c9c7bfb8-d338-4be6-b5c8-48fcdb7e560b",
   "metadata": {},
   "outputs": [],
   "source": [
    "df_pre.rename(columns={'ID_USER':'id', 'dcto':'descuento'}, inplace=True)"
   ]
  },
  {
   "cell_type": "code",
   "execution_count": 7,
   "id": "f0a871fa-d5b4-4414-b650-31e015733ec7",
   "metadata": {},
   "outputs": [],
   "source": [
    "df_pre['unix_time'] = df_pre['fecha_hora'].astype(np.int64) / 10**9"
   ]
  },
  {
   "cell_type": "code",
   "execution_count": 8,
   "id": "dd9af4f6-bf04-4570-b2cf-cdd458aed568",
   "metadata": {},
   "outputs": [],
   "source": [
    "df_pre = df_pre.sort_values(by=['id', 'fecha_hora']).reset_index(drop=True)"
   ]
  },
  {
   "cell_type": "code",
   "execution_count": 9,
   "id": "efef15fe-1866-41d6-b8e1-a7d454128cfa",
   "metadata": {},
   "outputs": [],
   "source": [
    "df_pre.fraude = df_pre['fraude'].astype(int)"
   ]
  },
  {
   "cell_type": "code",
   "execution_count": 10,
   "id": "3211ed16-5453-4ce8-81ea-e6abdf55be92",
   "metadata": {},
   "outputs": [],
   "source": [
    "current_id = 0\n",
    "fraude_sum_list = []\n",
    "current_sum = 0\n",
    "\n",
    "for index, row in df_pre.iterrows():\n",
    "    if current_id == row.id:\n",
    "        current_sum = current_sum + row.fraude\n",
    "        fraude_sum_list.append(current_sum)\n",
    "        \n",
    "    else:\n",
    "        current_id = row.id\n",
    "        current_sum = row.fraude\n",
    "        fraude_sum_list.append(current_sum)\n"
   ]
  },
  {
   "cell_type": "code",
   "execution_count": 11,
   "id": "a4602f0e-704a-4079-8b24-6b4d9bddfe2d",
   "metadata": {},
   "outputs": [],
   "source": [
    "df_pre['fraudes_acumulados'] = fraude_sum_list"
   ]
  },
  {
   "cell_type": "code",
   "execution_count": 12,
   "id": "7f3245f1-c64f-4990-badf-50583f28b433",
   "metadata": {},
   "outputs": [],
   "source": [
    "df_pre.fillna(value='nan', inplace=True)"
   ]
  },
  {
   "cell_type": "code",
   "execution_count": 13,
   "id": "44991bba-9f1e-460f-b8aa-f651362854cc",
   "metadata": {},
   "outputs": [],
   "source": [
    "import ast\n",
    "\n",
    "df_pre['device_score'] = df_pre.dispositivo.apply(lambda x: ast.literal_eval(x).get('device_score'))\n",
    "df_pre['os'] = df_pre.dispositivo.apply(lambda x: ast.literal_eval(x).get('os'))"
   ]
  },
  {
   "cell_type": "code",
   "execution_count": 14,
   "id": "ea0cc1c8-e135-4d3d-946b-9a9161745319",
   "metadata": {},
   "outputs": [],
   "source": [
    "df_pre.drop(columns='dispositivo', inplace=True)"
   ]
  },
  {
   "cell_type": "code",
   "execution_count": 15,
   "id": "47609e2d-a87b-4064-84b1-9409cfcc7206",
   "metadata": {},
   "outputs": [],
   "source": [
    "df_pre_prepared = df_pre.drop(columns=['fraudes_acumulados', 'fecha', 'fecha_hora'])"
   ]
  },
  {
   "cell_type": "code",
   "execution_count": 16,
   "id": "783cf55b-9c62-4974-a9d1-892870ba8dcc",
   "metadata": {},
   "outputs": [
    {
     "data": {
      "text/html": [
       "<div>\n",
       "<style scoped>\n",
       "    .dataframe tbody tr th:only-of-type {\n",
       "        vertical-align: middle;\n",
       "    }\n",
       "\n",
       "    .dataframe tbody tr th {\n",
       "        vertical-align: top;\n",
       "    }\n",
       "\n",
       "    .dataframe thead th {\n",
       "        text-align: right;\n",
       "    }\n",
       "</style>\n",
       "<table border=\"1\" class=\"dataframe\">\n",
       "  <thead>\n",
       "    <tr style=\"text-align: right;\">\n",
       "      <th></th>\n",
       "      <th>id</th>\n",
       "      <th>genero</th>\n",
       "      <th>monto</th>\n",
       "      <th>hora</th>\n",
       "      <th>establecimiento</th>\n",
       "      <th>ciudad</th>\n",
       "      <th>tipo_tc</th>\n",
       "      <th>linea_tc</th>\n",
       "      <th>interes_tc</th>\n",
       "      <th>status_txn</th>\n",
       "      <th>is_prime</th>\n",
       "      <th>descuento</th>\n",
       "      <th>cashback</th>\n",
       "      <th>fraude</th>\n",
       "      <th>unix_time</th>\n",
       "      <th>device_score</th>\n",
       "      <th>os</th>\n",
       "    </tr>\n",
       "  </thead>\n",
       "  <tbody>\n",
       "    <tr>\n",
       "      <th>0</th>\n",
       "      <td>0</td>\n",
       "      <td>F</td>\n",
       "      <td>88.719243</td>\n",
       "      <td>7</td>\n",
       "      <td>nan</td>\n",
       "      <td>Merida</td>\n",
       "      <td>Virtual</td>\n",
       "      <td>71000</td>\n",
       "      <td>51</td>\n",
       "      <td>Aceptada</td>\n",
       "      <td>False</td>\n",
       "      <td>0.000000</td>\n",
       "      <td>1.774385</td>\n",
       "      <td>0</td>\n",
       "      <td>1.579072e+09</td>\n",
       "      <td>1</td>\n",
       "      <td>ANDROID</td>\n",
       "    </tr>\n",
       "    <tr>\n",
       "      <th>1</th>\n",
       "      <td>0</td>\n",
       "      <td>F</td>\n",
       "      <td>608.345634</td>\n",
       "      <td>20</td>\n",
       "      <td>Super</td>\n",
       "      <td>Merida</td>\n",
       "      <td>Física</td>\n",
       "      <td>71000</td>\n",
       "      <td>51</td>\n",
       "      <td>Aceptada</td>\n",
       "      <td>False</td>\n",
       "      <td>60.834563</td>\n",
       "      <td>5.475111</td>\n",
       "      <td>0</td>\n",
       "      <td>1.579637e+09</td>\n",
       "      <td>3</td>\n",
       "      <td>ANDROID</td>\n",
       "    </tr>\n",
       "    <tr>\n",
       "      <th>2</th>\n",
       "      <td>1</td>\n",
       "      <td>F</td>\n",
       "      <td>767.005387</td>\n",
       "      <td>11</td>\n",
       "      <td>MPago</td>\n",
       "      <td>Guadalajara</td>\n",
       "      <td>Física</td>\n",
       "      <td>94000</td>\n",
       "      <td>56</td>\n",
       "      <td>Aceptada</td>\n",
       "      <td>False</td>\n",
       "      <td>0.000000</td>\n",
       "      <td>7.670054</td>\n",
       "      <td>0</td>\n",
       "      <td>1.578222e+09</td>\n",
       "      <td>3</td>\n",
       "      <td>WEB</td>\n",
       "    </tr>\n",
       "    <tr>\n",
       "      <th>3</th>\n",
       "      <td>1</td>\n",
       "      <td>F</td>\n",
       "      <td>334.516017</td>\n",
       "      <td>2</td>\n",
       "      <td>Abarrotes</td>\n",
       "      <td>Guadalajara</td>\n",
       "      <td>Física</td>\n",
       "      <td>94000</td>\n",
       "      <td>56</td>\n",
       "      <td>Aceptada</td>\n",
       "      <td>False</td>\n",
       "      <td>33.451602</td>\n",
       "      <td>3.010644</td>\n",
       "      <td>0</td>\n",
       "      <td>1.578276e+09</td>\n",
       "      <td>1</td>\n",
       "      <td>%%</td>\n",
       "    </tr>\n",
       "    <tr>\n",
       "      <th>4</th>\n",
       "      <td>1</td>\n",
       "      <td>F</td>\n",
       "      <td>322.264405</td>\n",
       "      <td>13</td>\n",
       "      <td>MPago</td>\n",
       "      <td>Guadalajara</td>\n",
       "      <td>Física</td>\n",
       "      <td>94000</td>\n",
       "      <td>56</td>\n",
       "      <td>Aceptada</td>\n",
       "      <td>False</td>\n",
       "      <td>0.000000</td>\n",
       "      <td>3.222644</td>\n",
       "      <td>0</td>\n",
       "      <td>1.578748e+09</td>\n",
       "      <td>4</td>\n",
       "      <td>%%</td>\n",
       "    </tr>\n",
       "    <tr>\n",
       "      <th>...</th>\n",
       "      <td>...</td>\n",
       "      <td>...</td>\n",
       "      <td>...</td>\n",
       "      <td>...</td>\n",
       "      <td>...</td>\n",
       "      <td>...</td>\n",
       "      <td>...</td>\n",
       "      <td>...</td>\n",
       "      <td>...</td>\n",
       "      <td>...</td>\n",
       "      <td>...</td>\n",
       "      <td>...</td>\n",
       "      <td>...</td>\n",
       "      <td>...</td>\n",
       "      <td>...</td>\n",
       "      <td>...</td>\n",
       "      <td>...</td>\n",
       "    </tr>\n",
       "    <tr>\n",
       "      <th>26970</th>\n",
       "      <td>3999</td>\n",
       "      <td>M</td>\n",
       "      <td>517.209272</td>\n",
       "      <td>20</td>\n",
       "      <td>MPago</td>\n",
       "      <td>Toluca</td>\n",
       "      <td>Física</td>\n",
       "      <td>40000</td>\n",
       "      <td>56</td>\n",
       "      <td>En proceso</td>\n",
       "      <td>False</td>\n",
       "      <td>0.000000</td>\n",
       "      <td>5.172093</td>\n",
       "      <td>0</td>\n",
       "      <td>1.578082e+09</td>\n",
       "      <td>5</td>\n",
       "      <td>ANDROID</td>\n",
       "    </tr>\n",
       "    <tr>\n",
       "      <th>26971</th>\n",
       "      <td>3999</td>\n",
       "      <td>M</td>\n",
       "      <td>746.192089</td>\n",
       "      <td>13</td>\n",
       "      <td>nan</td>\n",
       "      <td>Toluca</td>\n",
       "      <td>Física</td>\n",
       "      <td>40000</td>\n",
       "      <td>56</td>\n",
       "      <td>Aceptada</td>\n",
       "      <td>False</td>\n",
       "      <td>0.000000</td>\n",
       "      <td>7.461921</td>\n",
       "      <td>0</td>\n",
       "      <td>1.578488e+09</td>\n",
       "      <td>2</td>\n",
       "      <td>ANDROID</td>\n",
       "    </tr>\n",
       "    <tr>\n",
       "      <th>26972</th>\n",
       "      <td>3999</td>\n",
       "      <td>M</td>\n",
       "      <td>24.182665</td>\n",
       "      <td>17</td>\n",
       "      <td>nan</td>\n",
       "      <td>Toluca</td>\n",
       "      <td>Física</td>\n",
       "      <td>40000</td>\n",
       "      <td>56</td>\n",
       "      <td>Aceptada</td>\n",
       "      <td>False</td>\n",
       "      <td>2.418266</td>\n",
       "      <td>0.217644</td>\n",
       "      <td>0</td>\n",
       "      <td>1.578935e+09</td>\n",
       "      <td>5</td>\n",
       "      <td>.</td>\n",
       "    </tr>\n",
       "    <tr>\n",
       "      <th>26973</th>\n",
       "      <td>3999</td>\n",
       "      <td>M</td>\n",
       "      <td>941.804966</td>\n",
       "      <td>15</td>\n",
       "      <td>nan</td>\n",
       "      <td>Toluca</td>\n",
       "      <td>Física</td>\n",
       "      <td>40000</td>\n",
       "      <td>56</td>\n",
       "      <td>Aceptada</td>\n",
       "      <td>False</td>\n",
       "      <td>0.000000</td>\n",
       "      <td>9.418050</td>\n",
       "      <td>0</td>\n",
       "      <td>1.579014e+09</td>\n",
       "      <td>2</td>\n",
       "      <td>WEB</td>\n",
       "    </tr>\n",
       "    <tr>\n",
       "      <th>26974</th>\n",
       "      <td>3999</td>\n",
       "      <td>M</td>\n",
       "      <td>251.189885</td>\n",
       "      <td>11</td>\n",
       "      <td>nan</td>\n",
       "      <td>Toluca</td>\n",
       "      <td>Virtual</td>\n",
       "      <td>40000</td>\n",
       "      <td>56</td>\n",
       "      <td>Aceptada</td>\n",
       "      <td>False</td>\n",
       "      <td>0.000000</td>\n",
       "      <td>5.023798</td>\n",
       "      <td>0</td>\n",
       "      <td>1.579172e+09</td>\n",
       "      <td>2</td>\n",
       "      <td>WEB</td>\n",
       "    </tr>\n",
       "  </tbody>\n",
       "</table>\n",
       "<p>26975 rows × 17 columns</p>\n",
       "</div>"
      ],
      "text/plain": [
       "         id genero       monto  hora establecimiento       ciudad  tipo_tc  \\\n",
       "0         0      F   88.719243     7             nan       Merida  Virtual   \n",
       "1         0      F  608.345634    20           Super       Merida   Física   \n",
       "2         1      F  767.005387    11           MPago  Guadalajara   Física   \n",
       "3         1      F  334.516017     2       Abarrotes  Guadalajara   Física   \n",
       "4         1      F  322.264405    13           MPago  Guadalajara   Física   \n",
       "...     ...    ...         ...   ...             ...          ...      ...   \n",
       "26970  3999      M  517.209272    20           MPago       Toluca   Física   \n",
       "26971  3999      M  746.192089    13             nan       Toluca   Física   \n",
       "26972  3999      M   24.182665    17             nan       Toluca   Física   \n",
       "26973  3999      M  941.804966    15             nan       Toluca   Física   \n",
       "26974  3999      M  251.189885    11             nan       Toluca  Virtual   \n",
       "\n",
       "       linea_tc  interes_tc  status_txn  is_prime  descuento  cashback  \\\n",
       "0         71000          51    Aceptada     False   0.000000  1.774385   \n",
       "1         71000          51    Aceptada     False  60.834563  5.475111   \n",
       "2         94000          56    Aceptada     False   0.000000  7.670054   \n",
       "3         94000          56    Aceptada     False  33.451602  3.010644   \n",
       "4         94000          56    Aceptada     False   0.000000  3.222644   \n",
       "...         ...         ...         ...       ...        ...       ...   \n",
       "26970     40000          56  En proceso     False   0.000000  5.172093   \n",
       "26971     40000          56    Aceptada     False   0.000000  7.461921   \n",
       "26972     40000          56    Aceptada     False   2.418266  0.217644   \n",
       "26973     40000          56    Aceptada     False   0.000000  9.418050   \n",
       "26974     40000          56    Aceptada     False   0.000000  5.023798   \n",
       "\n",
       "       fraude     unix_time  device_score       os  \n",
       "0           0  1.579072e+09             1  ANDROID  \n",
       "1           0  1.579637e+09             3  ANDROID  \n",
       "2           0  1.578222e+09             3      WEB  \n",
       "3           0  1.578276e+09             1       %%  \n",
       "4           0  1.578748e+09             4       %%  \n",
       "...       ...           ...           ...      ...  \n",
       "26970       0  1.578082e+09             5  ANDROID  \n",
       "26971       0  1.578488e+09             2  ANDROID  \n",
       "26972       0  1.578935e+09             5        .  \n",
       "26973       0  1.579014e+09             2      WEB  \n",
       "26974       0  1.579172e+09             2      WEB  \n",
       "\n",
       "[26975 rows x 17 columns]"
      ]
     },
     "execution_count": 16,
     "metadata": {},
     "output_type": "execute_result"
    }
   ],
   "source": [
    "df_pre_prepared"
   ]
  },
  {
   "cell_type": "markdown",
   "id": "16cd0ef5-9f9d-4380-9442-e0a8eefe69c2",
   "metadata": {},
   "source": [
    "# Pipelines for data preparation"
   ]
  },
  {
   "cell_type": "code",
   "execution_count": 20,
   "id": "a8dc9063-8e17-460e-9454-67e1a3a2acfa",
   "metadata": {},
   "outputs": [],
   "source": [
    "from sklearn.preprocessing import OneHotEncoder\n",
    "from sklearn.compose import make_column_transformer  \n",
    "from sklearn.compose import make_column_selector   \n",
    "\n",
    "ohe = OneHotEncoder(drop='first')\n",
    "\n",
    "ct = make_column_transformer((ohe, make_column_selector(dtype_include=[object, bool])), remainder='passthrough')"
   ]
  },
  {
   "cell_type": "markdown",
   "id": "492d4189-8891-465f-b707-85f47c477ef0",
   "metadata": {},
   "source": [
    "# Create Train and Test Sets"
   ]
  },
  {
   "cell_type": "code",
   "execution_count": 21,
   "id": "1c2de77f-fc46-492a-b604-60ed6b1e3deb",
   "metadata": {},
   "outputs": [],
   "source": [
    "from sklearn.model_selection import train_test_split"
   ]
  },
  {
   "cell_type": "code",
   "execution_count": 22,
   "id": "8798b421-22a6-45b1-a449-bed786121da8",
   "metadata": {},
   "outputs": [],
   "source": [
    "def make_test_set(df_var):\n",
    "    train, test = train_test_split(df_var, test_size=0.25, random_state=RANDOM_SEED, stratify=df_var.fraude)\n",
    "    \n",
    "    return train, test"
   ]
  },
  {
   "cell_type": "code",
   "execution_count": 23,
   "id": "4f08b493-5a31-4f8a-a01a-21b86cc9ad01",
   "metadata": {},
   "outputs": [],
   "source": [
    "def split_df_into_matrices(df_var):\n",
    "    \n",
    "    X = df_var.drop(columns='fraude')\n",
    "    y = df_var['fraude'].copy()\n",
    "    \n",
    "    return X, y"
   ]
  },
  {
   "cell_type": "code",
   "execution_count": 24,
   "id": "54b8823f-4a87-49e6-8a6e-5e20e3a7622a",
   "metadata": {},
   "outputs": [],
   "source": [
    "train_set_pre, test_set_pre = make_test_set(df_pre_prepared)"
   ]
  },
  {
   "cell_type": "code",
   "execution_count": 25,
   "id": "9bbcfc7b-00fa-478c-a197-81a5de57c1b1",
   "metadata": {},
   "outputs": [],
   "source": [
    "X_train_pre, y_train_pre = split_df_into_matrices(train_set_pre)"
   ]
  },
  {
   "cell_type": "code",
   "execution_count": 26,
   "id": "5d39148a-70a5-469c-9784-4f6dfc7c8196",
   "metadata": {},
   "outputs": [],
   "source": [
    "X_test_pre, y_test_pre = split_df_into_matrices(test_set_pre)"
   ]
  },
  {
   "cell_type": "markdown",
   "id": "7fcbef81-20a7-492f-9560-287344a1407e",
   "metadata": {},
   "source": [
    "# Feature Selection"
   ]
  },
  {
   "cell_type": "code",
   "execution_count": 29,
   "id": "f900d384-957f-4b62-be60-69f77747ee31",
   "metadata": {},
   "outputs": [],
   "source": [
    "X_train_selection = ct.fit_transform(X_train_pre)"
   ]
  },
  {
   "cell_type": "code",
   "execution_count": 30,
   "id": "bc1db629-879c-4c30-850e-0cf4f7922d81",
   "metadata": {},
   "outputs": [],
   "source": [
    "y_train_selection = y_train_pre.reset_index(drop=True)"
   ]
  },
  {
   "cell_type": "code",
   "execution_count": 31,
   "id": "b611c875-e833-423a-aaf1-162c6a6e5ac5",
   "metadata": {},
   "outputs": [],
   "source": [
    "X_train_selection = pd.DataFrame(X_train_selection)"
   ]
  },
  {
   "cell_type": "code",
   "execution_count": 32,
   "id": "ce879872-726f-4721-8905-dcce57b88321",
   "metadata": {},
   "outputs": [],
   "source": [
    "X_train_selection.columns = ct.get_feature_names()"
   ]
  },
  {
   "cell_type": "code",
   "execution_count": 33,
   "id": "95c724f0-bbe0-499b-bd7f-326b106f99a7",
   "metadata": {},
   "outputs": [
    {
     "data": {
      "text/html": [
       "<div>\n",
       "<style scoped>\n",
       "    .dataframe tbody tr th:only-of-type {\n",
       "        vertical-align: middle;\n",
       "    }\n",
       "\n",
       "    .dataframe tbody tr th {\n",
       "        vertical-align: top;\n",
       "    }\n",
       "\n",
       "    .dataframe thead th {\n",
       "        text-align: right;\n",
       "    }\n",
       "</style>\n",
       "<table border=\"1\" class=\"dataframe\">\n",
       "  <thead>\n",
       "    <tr style=\"text-align: right;\">\n",
       "      <th></th>\n",
       "      <th>onehotencoder__x0_F</th>\n",
       "      <th>onehotencoder__x0_M</th>\n",
       "      <th>onehotencoder__x1_Farmacia</th>\n",
       "      <th>onehotencoder__x1_MPago</th>\n",
       "      <th>onehotencoder__x1_Restaurante</th>\n",
       "      <th>onehotencoder__x1_Super</th>\n",
       "      <th>onehotencoder__x1_nan</th>\n",
       "      <th>onehotencoder__x2_Merida</th>\n",
       "      <th>onehotencoder__x2_Monterrey</th>\n",
       "      <th>onehotencoder__x2_Toluca</th>\n",
       "      <th>...</th>\n",
       "      <th>onehotencoder__x6_WEB</th>\n",
       "      <th>id</th>\n",
       "      <th>monto</th>\n",
       "      <th>hora</th>\n",
       "      <th>linea_tc</th>\n",
       "      <th>interes_tc</th>\n",
       "      <th>descuento</th>\n",
       "      <th>cashback</th>\n",
       "      <th>unix_time</th>\n",
       "      <th>device_score</th>\n",
       "    </tr>\n",
       "  </thead>\n",
       "  <tbody>\n",
       "    <tr>\n",
       "      <th>0</th>\n",
       "      <td>0.0</td>\n",
       "      <td>1.0</td>\n",
       "      <td>0.0</td>\n",
       "      <td>1.0</td>\n",
       "      <td>0.0</td>\n",
       "      <td>0.0</td>\n",
       "      <td>0.0</td>\n",
       "      <td>0.0</td>\n",
       "      <td>0.0</td>\n",
       "      <td>1.0</td>\n",
       "      <td>...</td>\n",
       "      <td>0.0</td>\n",
       "      <td>2651.0</td>\n",
       "      <td>332.871468</td>\n",
       "      <td>2.0</td>\n",
       "      <td>80000.0</td>\n",
       "      <td>36.0</td>\n",
       "      <td>0.000000</td>\n",
       "      <td>3.328715</td>\n",
       "      <td>1.580177e+09</td>\n",
       "      <td>4.0</td>\n",
       "    </tr>\n",
       "    <tr>\n",
       "      <th>1</th>\n",
       "      <td>0.0</td>\n",
       "      <td>0.0</td>\n",
       "      <td>0.0</td>\n",
       "      <td>0.0</td>\n",
       "      <td>0.0</td>\n",
       "      <td>0.0</td>\n",
       "      <td>0.0</td>\n",
       "      <td>0.0</td>\n",
       "      <td>1.0</td>\n",
       "      <td>0.0</td>\n",
       "      <td>...</td>\n",
       "      <td>0.0</td>\n",
       "      <td>2594.0</td>\n",
       "      <td>477.607896</td>\n",
       "      <td>9.0</td>\n",
       "      <td>77000.0</td>\n",
       "      <td>36.0</td>\n",
       "      <td>0.000000</td>\n",
       "      <td>4.776079</td>\n",
       "      <td>1.578733e+09</td>\n",
       "      <td>4.0</td>\n",
       "    </tr>\n",
       "    <tr>\n",
       "      <th>2</th>\n",
       "      <td>1.0</td>\n",
       "      <td>0.0</td>\n",
       "      <td>0.0</td>\n",
       "      <td>0.0</td>\n",
       "      <td>0.0</td>\n",
       "      <td>0.0</td>\n",
       "      <td>1.0</td>\n",
       "      <td>1.0</td>\n",
       "      <td>0.0</td>\n",
       "      <td>0.0</td>\n",
       "      <td>...</td>\n",
       "      <td>0.0</td>\n",
       "      <td>3961.0</td>\n",
       "      <td>45.657438</td>\n",
       "      <td>1.0</td>\n",
       "      <td>55000.0</td>\n",
       "      <td>51.0</td>\n",
       "      <td>0.000000</td>\n",
       "      <td>0.456574</td>\n",
       "      <td>1.579050e+09</td>\n",
       "      <td>5.0</td>\n",
       "    </tr>\n",
       "    <tr>\n",
       "      <th>3</th>\n",
       "      <td>0.0</td>\n",
       "      <td>1.0</td>\n",
       "      <td>0.0</td>\n",
       "      <td>1.0</td>\n",
       "      <td>0.0</td>\n",
       "      <td>0.0</td>\n",
       "      <td>0.0</td>\n",
       "      <td>0.0</td>\n",
       "      <td>0.0</td>\n",
       "      <td>0.0</td>\n",
       "      <td>...</td>\n",
       "      <td>0.0</td>\n",
       "      <td>284.0</td>\n",
       "      <td>396.121359</td>\n",
       "      <td>5.0</td>\n",
       "      <td>99000.0</td>\n",
       "      <td>58.0</td>\n",
       "      <td>0.000000</td>\n",
       "      <td>3.961214</td>\n",
       "      <td>1.578200e+09</td>\n",
       "      <td>2.0</td>\n",
       "    </tr>\n",
       "    <tr>\n",
       "      <th>4</th>\n",
       "      <td>1.0</td>\n",
       "      <td>0.0</td>\n",
       "      <td>0.0</td>\n",
       "      <td>0.0</td>\n",
       "      <td>0.0</td>\n",
       "      <td>0.0</td>\n",
       "      <td>0.0</td>\n",
       "      <td>0.0</td>\n",
       "      <td>1.0</td>\n",
       "      <td>0.0</td>\n",
       "      <td>...</td>\n",
       "      <td>0.0</td>\n",
       "      <td>414.0</td>\n",
       "      <td>192.753247</td>\n",
       "      <td>21.0</td>\n",
       "      <td>99000.0</td>\n",
       "      <td>55.0</td>\n",
       "      <td>0.000000</td>\n",
       "      <td>3.855065</td>\n",
       "      <td>1.579295e+09</td>\n",
       "      <td>4.0</td>\n",
       "    </tr>\n",
       "    <tr>\n",
       "      <th>...</th>\n",
       "      <td>...</td>\n",
       "      <td>...</td>\n",
       "      <td>...</td>\n",
       "      <td>...</td>\n",
       "      <td>...</td>\n",
       "      <td>...</td>\n",
       "      <td>...</td>\n",
       "      <td>...</td>\n",
       "      <td>...</td>\n",
       "      <td>...</td>\n",
       "      <td>...</td>\n",
       "      <td>...</td>\n",
       "      <td>...</td>\n",
       "      <td>...</td>\n",
       "      <td>...</td>\n",
       "      <td>...</td>\n",
       "      <td>...</td>\n",
       "      <td>...</td>\n",
       "      <td>...</td>\n",
       "      <td>...</td>\n",
       "      <td>...</td>\n",
       "    </tr>\n",
       "    <tr>\n",
       "      <th>20226</th>\n",
       "      <td>0.0</td>\n",
       "      <td>1.0</td>\n",
       "      <td>0.0</td>\n",
       "      <td>0.0</td>\n",
       "      <td>0.0</td>\n",
       "      <td>0.0</td>\n",
       "      <td>1.0</td>\n",
       "      <td>0.0</td>\n",
       "      <td>0.0</td>\n",
       "      <td>0.0</td>\n",
       "      <td>...</td>\n",
       "      <td>1.0</td>\n",
       "      <td>2697.0</td>\n",
       "      <td>174.575747</td>\n",
       "      <td>18.0</td>\n",
       "      <td>94000.0</td>\n",
       "      <td>52.0</td>\n",
       "      <td>0.000000</td>\n",
       "      <td>1.745757</td>\n",
       "      <td>1.580062e+09</td>\n",
       "      <td>1.0</td>\n",
       "    </tr>\n",
       "    <tr>\n",
       "      <th>20227</th>\n",
       "      <td>1.0</td>\n",
       "      <td>0.0</td>\n",
       "      <td>0.0</td>\n",
       "      <td>0.0</td>\n",
       "      <td>0.0</td>\n",
       "      <td>0.0</td>\n",
       "      <td>0.0</td>\n",
       "      <td>0.0</td>\n",
       "      <td>0.0</td>\n",
       "      <td>0.0</td>\n",
       "      <td>...</td>\n",
       "      <td>1.0</td>\n",
       "      <td>3045.0</td>\n",
       "      <td>633.006746</td>\n",
       "      <td>15.0</td>\n",
       "      <td>86000.0</td>\n",
       "      <td>59.0</td>\n",
       "      <td>0.000000</td>\n",
       "      <td>6.330067</td>\n",
       "      <td>1.578755e+09</td>\n",
       "      <td>5.0</td>\n",
       "    </tr>\n",
       "    <tr>\n",
       "      <th>20228</th>\n",
       "      <td>0.0</td>\n",
       "      <td>1.0</td>\n",
       "      <td>0.0</td>\n",
       "      <td>0.0</td>\n",
       "      <td>0.0</td>\n",
       "      <td>0.0</td>\n",
       "      <td>1.0</td>\n",
       "      <td>0.0</td>\n",
       "      <td>0.0</td>\n",
       "      <td>0.0</td>\n",
       "      <td>...</td>\n",
       "      <td>0.0</td>\n",
       "      <td>3260.0</td>\n",
       "      <td>120.039168</td>\n",
       "      <td>23.0</td>\n",
       "      <td>30000.0</td>\n",
       "      <td>63.0</td>\n",
       "      <td>12.003917</td>\n",
       "      <td>1.080353</td>\n",
       "      <td>1.579907e+09</td>\n",
       "      <td>3.0</td>\n",
       "    </tr>\n",
       "    <tr>\n",
       "      <th>20229</th>\n",
       "      <td>0.0</td>\n",
       "      <td>0.0</td>\n",
       "      <td>0.0</td>\n",
       "      <td>0.0</td>\n",
       "      <td>0.0</td>\n",
       "      <td>0.0</td>\n",
       "      <td>1.0</td>\n",
       "      <td>0.0</td>\n",
       "      <td>0.0</td>\n",
       "      <td>1.0</td>\n",
       "      <td>...</td>\n",
       "      <td>0.0</td>\n",
       "      <td>2937.0</td>\n",
       "      <td>779.422653</td>\n",
       "      <td>5.0</td>\n",
       "      <td>40000.0</td>\n",
       "      <td>50.0</td>\n",
       "      <td>0.000000</td>\n",
       "      <td>15.588453</td>\n",
       "      <td>1.579583e+09</td>\n",
       "      <td>5.0</td>\n",
       "    </tr>\n",
       "    <tr>\n",
       "      <th>20230</th>\n",
       "      <td>0.0</td>\n",
       "      <td>1.0</td>\n",
       "      <td>0.0</td>\n",
       "      <td>0.0</td>\n",
       "      <td>1.0</td>\n",
       "      <td>0.0</td>\n",
       "      <td>0.0</td>\n",
       "      <td>0.0</td>\n",
       "      <td>0.0</td>\n",
       "      <td>1.0</td>\n",
       "      <td>...</td>\n",
       "      <td>0.0</td>\n",
       "      <td>2318.0</td>\n",
       "      <td>462.789063</td>\n",
       "      <td>3.0</td>\n",
       "      <td>99000.0</td>\n",
       "      <td>61.0</td>\n",
       "      <td>0.000000</td>\n",
       "      <td>9.255781</td>\n",
       "      <td>1.578193e+09</td>\n",
       "      <td>1.0</td>\n",
       "    </tr>\n",
       "  </tbody>\n",
       "</table>\n",
       "<p>20231 rows × 27 columns</p>\n",
       "</div>"
      ],
      "text/plain": [
       "       onehotencoder__x0_F  onehotencoder__x0_M  onehotencoder__x1_Farmacia  \\\n",
       "0                      0.0                  1.0                         0.0   \n",
       "1                      0.0                  0.0                         0.0   \n",
       "2                      1.0                  0.0                         0.0   \n",
       "3                      0.0                  1.0                         0.0   \n",
       "4                      1.0                  0.0                         0.0   \n",
       "...                    ...                  ...                         ...   \n",
       "20226                  0.0                  1.0                         0.0   \n",
       "20227                  1.0                  0.0                         0.0   \n",
       "20228                  0.0                  1.0                         0.0   \n",
       "20229                  0.0                  0.0                         0.0   \n",
       "20230                  0.0                  1.0                         0.0   \n",
       "\n",
       "       onehotencoder__x1_MPago  onehotencoder__x1_Restaurante  \\\n",
       "0                          1.0                            0.0   \n",
       "1                          0.0                            0.0   \n",
       "2                          0.0                            0.0   \n",
       "3                          1.0                            0.0   \n",
       "4                          0.0                            0.0   \n",
       "...                        ...                            ...   \n",
       "20226                      0.0                            0.0   \n",
       "20227                      0.0                            0.0   \n",
       "20228                      0.0                            0.0   \n",
       "20229                      0.0                            0.0   \n",
       "20230                      0.0                            1.0   \n",
       "\n",
       "       onehotencoder__x1_Super  onehotencoder__x1_nan  \\\n",
       "0                          0.0                    0.0   \n",
       "1                          0.0                    0.0   \n",
       "2                          0.0                    1.0   \n",
       "3                          0.0                    0.0   \n",
       "4                          0.0                    0.0   \n",
       "...                        ...                    ...   \n",
       "20226                      0.0                    1.0   \n",
       "20227                      0.0                    0.0   \n",
       "20228                      0.0                    1.0   \n",
       "20229                      0.0                    1.0   \n",
       "20230                      0.0                    0.0   \n",
       "\n",
       "       onehotencoder__x2_Merida  onehotencoder__x2_Monterrey  \\\n",
       "0                           0.0                          0.0   \n",
       "1                           0.0                          1.0   \n",
       "2                           1.0                          0.0   \n",
       "3                           0.0                          0.0   \n",
       "4                           0.0                          1.0   \n",
       "...                         ...                          ...   \n",
       "20226                       0.0                          0.0   \n",
       "20227                       0.0                          0.0   \n",
       "20228                       0.0                          0.0   \n",
       "20229                       0.0                          0.0   \n",
       "20230                       0.0                          0.0   \n",
       "\n",
       "       onehotencoder__x2_Toluca  ...  onehotencoder__x6_WEB      id  \\\n",
       "0                           1.0  ...                    0.0  2651.0   \n",
       "1                           0.0  ...                    0.0  2594.0   \n",
       "2                           0.0  ...                    0.0  3961.0   \n",
       "3                           0.0  ...                    0.0   284.0   \n",
       "4                           0.0  ...                    0.0   414.0   \n",
       "...                         ...  ...                    ...     ...   \n",
       "20226                       0.0  ...                    1.0  2697.0   \n",
       "20227                       0.0  ...                    1.0  3045.0   \n",
       "20228                       0.0  ...                    0.0  3260.0   \n",
       "20229                       1.0  ...                    0.0  2937.0   \n",
       "20230                       1.0  ...                    0.0  2318.0   \n",
       "\n",
       "            monto  hora  linea_tc  interes_tc  descuento   cashback  \\\n",
       "0      332.871468   2.0   80000.0        36.0   0.000000   3.328715   \n",
       "1      477.607896   9.0   77000.0        36.0   0.000000   4.776079   \n",
       "2       45.657438   1.0   55000.0        51.0   0.000000   0.456574   \n",
       "3      396.121359   5.0   99000.0        58.0   0.000000   3.961214   \n",
       "4      192.753247  21.0   99000.0        55.0   0.000000   3.855065   \n",
       "...           ...   ...       ...         ...        ...        ...   \n",
       "20226  174.575747  18.0   94000.0        52.0   0.000000   1.745757   \n",
       "20227  633.006746  15.0   86000.0        59.0   0.000000   6.330067   \n",
       "20228  120.039168  23.0   30000.0        63.0  12.003917   1.080353   \n",
       "20229  779.422653   5.0   40000.0        50.0   0.000000  15.588453   \n",
       "20230  462.789063   3.0   99000.0        61.0   0.000000   9.255781   \n",
       "\n",
       "          unix_time  device_score  \n",
       "0      1.580177e+09           4.0  \n",
       "1      1.578733e+09           4.0  \n",
       "2      1.579050e+09           5.0  \n",
       "3      1.578200e+09           2.0  \n",
       "4      1.579295e+09           4.0  \n",
       "...             ...           ...  \n",
       "20226  1.580062e+09           1.0  \n",
       "20227  1.578755e+09           5.0  \n",
       "20228  1.579907e+09           3.0  \n",
       "20229  1.579583e+09           5.0  \n",
       "20230  1.578193e+09           1.0  \n",
       "\n",
       "[20231 rows x 27 columns]"
      ]
     },
     "execution_count": 33,
     "metadata": {},
     "output_type": "execute_result"
    }
   ],
   "source": [
    "X_train_selection"
   ]
  },
  {
   "cell_type": "code",
   "execution_count": 34,
   "id": "89b5dbc8-841c-4581-ad8a-ad03e24c9025",
   "metadata": {},
   "outputs": [],
   "source": [
    "from sklearn.feature_selection import SelectKBest\n",
    "from sklearn.feature_selection import chi2"
   ]
  },
  {
   "cell_type": "code",
   "execution_count": 35,
   "id": "a3410139-413b-40ba-8ef0-74bf2e651185",
   "metadata": {},
   "outputs": [],
   "source": [
    "bestfeatures = SelectKBest(score_func=chi2, k=10)\n",
    "fit = bestfeatures.fit(X_train_selection, y_train_selection)"
   ]
  },
  {
   "cell_type": "code",
   "execution_count": 36,
   "id": "46b89e52-da8b-4afa-bcc3-da64f156ac40",
   "metadata": {},
   "outputs": [
    {
     "data": {
      "text/html": [
       "<div>\n",
       "<style scoped>\n",
       "    .dataframe tbody tr th:only-of-type {\n",
       "        vertical-align: middle;\n",
       "    }\n",
       "\n",
       "    .dataframe tbody tr th {\n",
       "        vertical-align: top;\n",
       "    }\n",
       "\n",
       "    .dataframe thead th {\n",
       "        text-align: right;\n",
       "    }\n",
       "</style>\n",
       "<table border=\"1\" class=\"dataframe\">\n",
       "  <thead>\n",
       "    <tr style=\"text-align: right;\">\n",
       "      <th></th>\n",
       "      <th>column</th>\n",
       "      <th>Score</th>\n",
       "    </tr>\n",
       "  </thead>\n",
       "  <tbody>\n",
       "    <tr>\n",
       "      <th>0</th>\n",
       "      <td>id</td>\n",
       "      <td>1842.068226</td>\n",
       "    </tr>\n",
       "    <tr>\n",
       "      <th>1</th>\n",
       "      <td>unix_time</td>\n",
       "      <td>258.587214</td>\n",
       "    </tr>\n",
       "    <tr>\n",
       "      <th>2</th>\n",
       "      <td>linea_tc</td>\n",
       "      <td>82.231721</td>\n",
       "    </tr>\n",
       "    <tr>\n",
       "      <th>3</th>\n",
       "      <td>monto</td>\n",
       "      <td>41.005834</td>\n",
       "    </tr>\n",
       "    <tr>\n",
       "      <th>4</th>\n",
       "      <td>hora</td>\n",
       "      <td>15.794044</td>\n",
       "    </tr>\n",
       "    <tr>\n",
       "      <th>5</th>\n",
       "      <td>descuento</td>\n",
       "      <td>4.628610</td>\n",
       "    </tr>\n",
       "    <tr>\n",
       "      <th>6</th>\n",
       "      <td>onehotencoder__x1_MPago</td>\n",
       "      <td>1.418351</td>\n",
       "    </tr>\n",
       "    <tr>\n",
       "      <th>7</th>\n",
       "      <td>onehotencoder__x2_Merida</td>\n",
       "      <td>1.144656</td>\n",
       "    </tr>\n",
       "    <tr>\n",
       "      <th>8</th>\n",
       "      <td>onehotencoder__x6_WEB</td>\n",
       "      <td>0.987082</td>\n",
       "    </tr>\n",
       "    <tr>\n",
       "      <th>9</th>\n",
       "      <td>onehotencoder__x1_Restaurante</td>\n",
       "      <td>0.835686</td>\n",
       "    </tr>\n",
       "    <tr>\n",
       "      <th>10</th>\n",
       "      <td>interes_tc</td>\n",
       "      <td>0.662621</td>\n",
       "    </tr>\n",
       "  </tbody>\n",
       "</table>\n",
       "</div>"
      ],
      "text/plain": [
       "                           column        Score\n",
       "0                              id  1842.068226\n",
       "1                       unix_time   258.587214\n",
       "2                        linea_tc    82.231721\n",
       "3                           monto    41.005834\n",
       "4                            hora    15.794044\n",
       "5                       descuento     4.628610\n",
       "6         onehotencoder__x1_MPago     1.418351\n",
       "7        onehotencoder__x2_Merida     1.144656\n",
       "8           onehotencoder__x6_WEB     0.987082\n",
       "9   onehotencoder__x1_Restaurante     0.835686\n",
       "10                     interes_tc     0.662621"
      ]
     },
     "execution_count": 36,
     "metadata": {},
     "output_type": "execute_result"
    }
   ],
   "source": [
    "dfscores = pd.DataFrame(fit.scores_)\n",
    "dfcolumns = pd.DataFrame(X_train_selection.columns)\n",
    "\n",
    "\n",
    "featureScores = pd.concat([dfcolumns,dfscores],axis=1)\n",
    "featureScores.columns = ['column','Score'] \n",
    "featureScores.sort_values(by='Score', ascending=False).reset_index(drop=True).head(11)"
   ]
  },
  {
   "cell_type": "code",
   "execution_count": 37,
   "id": "5b2bcb2c-848f-4828-8a24-1e7f56ef4ad0",
   "metadata": {},
   "outputs": [],
   "source": [
    "from sklearn.ensemble import ExtraTreesClassifier\n",
    "\n",
    "model = ExtraTreesClassifier()\n",
    "model.fit(X_train_selection, y_train_selection)\n",
    "\n",
    "feat_importances = pd.Series(model.feature_importances_, index=X_train_selection.columns)"
   ]
  },
  {
   "cell_type": "code",
   "execution_count": 38,
   "id": "5c2c4821-add4-4ba7-9ff1-130a1789cec9",
   "metadata": {},
   "outputs": [
    {
     "data": {
      "text/plain": [
       "cashback                     0.087221\n",
       "unix_time                    0.087126\n",
       "id                           0.086287\n",
       "monto                        0.085869\n",
       "linea_tc                     0.084385\n",
       "interes_tc                   0.083676\n",
       "hora                         0.082480\n",
       "device_score                 0.062167\n",
       "descuento                    0.052319\n",
       "onehotencoder__x3_Virtual    0.022620\n",
       "onehotencoder__x6_.          0.021040\n",
       "dtype: float64"
      ]
     },
     "execution_count": 38,
     "metadata": {},
     "output_type": "execute_result"
    }
   ],
   "source": [
    "feat_importances.sort_values(ascending=False)[0:11]"
   ]
  },
  {
   "cell_type": "code",
   "execution_count": 39,
   "id": "2b9ec65d-eb4b-48a4-bc6e-a1876abe292c",
   "metadata": {},
   "outputs": [
    {
     "data": {
      "image/png": "[encoded data removed]",
      "text/plain": [
       "<Figure size 1440x1440 with 2 Axes>"
      ]
     },
     "metadata": {
      "needs_background": "light"
     },
     "output_type": "display_data"
    }
   ],
   "source": [
    "import seaborn as sns\n",
    "\n",
    "X_train_selection['fraude'] = y_train_selection\n",
    "corrmat = X_train_selection.corr()\n",
    "top_corr_features = corrmat.index\n",
    "plt.figure(figsize=(20,20))\n",
    "\n",
    "g=sns.heatmap(X_train_selection[top_corr_features].corr(),annot=True,cmap=\"RdYlGn\")"
   ]
  },
  {
   "cell_type": "code",
   "execution_count": null,
   "id": "6bac7361-f38d-4eda-bc6f-f1a2475c606f",
   "metadata": {},
   "outputs": [],
   "source": [
    "from sklearn.cluster import KMeans\n",
    "wcss = []\n",
    "\n",
    "for i in range(1, 11):\n",
    "    kmeans = KMeans(n_clusters = i, init = 'k-means++', random_state = RANDOM_SEED)\n",
    "    kmeans.fit(X)\n",
    "    wcss.append(kmeans.inertia_)\n",
    "    \n",
    "plt.plot(range(1, 11), wcss)\n",
    "plt.title('The Elbow Method')\n",
    "plt.xlabel('Number of clusters')\n",
    "plt.ylabel('WCSS')\n",
    "plt.show()"
   ]
  },
  {
   "cell_type": "code",
   "execution_count": null,
   "id": "cb4fe9a4-aae6-40dc-830d-9cb85a939b0d",
   "metadata": {},
   "outputs": [],
   "source": [
    "X_train_selection"
   ]
  },
  {
   "cell_type": "code",
   "execution_count": 83,
   "id": "89419a83-b328-4f65-90b5-725998889310",
   "metadata": {},
   "outputs": [],
   "source": [
    "train_set = X_train_selection[['id', 'unix_time', 'linea_tc', 'monto', 'hora', 'descuento', 'fraude']]\n",
    "\n",
    "X_train = X_train_selection[['id', 'unix_time', 'linea_tc', 'monto', 'hora', 'descuento']]\n",
    "y_train = X_train_selection['fraude']\n",
    "\n",
    "X_test = X_test_pre[['id', 'unix_time', 'linea_tc', 'monto', 'hora', 'descuento']]\n",
    "y_test = y_test_pre"
   ]
  },
  {
   "cell_type": "code",
   "execution_count": 140,
   "id": "b33edd9a-008a-4777-9587-65cca3c2f2a2",
   "metadata": {},
   "outputs": [
    {
     "data": {
      "text/html": [
       "<div>\n",
       "<style scoped>\n",
       "    .dataframe tbody tr th:only-of-type {\n",
       "        vertical-align: middle;\n",
       "    }\n",
       "\n",
       "    .dataframe tbody tr th {\n",
       "        vertical-align: top;\n",
       "    }\n",
       "\n",
       "    .dataframe thead th {\n",
       "        text-align: right;\n",
       "    }\n",
       "</style>\n",
       "<table border=\"1\" class=\"dataframe\">\n",
       "  <thead>\n",
       "    <tr style=\"text-align: right;\">\n",
       "      <th></th>\n",
       "      <th>id</th>\n",
       "      <th>unix_time</th>\n",
       "      <th>linea_tc</th>\n",
       "      <th>monto</th>\n",
       "      <th>hora</th>\n",
       "      <th>descuento</th>\n",
       "    </tr>\n",
       "  </thead>\n",
       "  <tbody>\n",
       "    <tr>\n",
       "      <th>23067</th>\n",
       "      <td>3425</td>\n",
       "      <td>1.578928e+09</td>\n",
       "      <td>27000</td>\n",
       "      <td>220.436952</td>\n",
       "      <td>15</td>\n",
       "      <td>0.000000</td>\n",
       "    </tr>\n",
       "    <tr>\n",
       "      <th>4971</th>\n",
       "      <td>759</td>\n",
       "      <td>1.578215e+09</td>\n",
       "      <td>87000</td>\n",
       "      <td>515.551317</td>\n",
       "      <td>9</td>\n",
       "      <td>51.555132</td>\n",
       "    </tr>\n",
       "    <tr>\n",
       "      <th>12277</th>\n",
       "      <td>1829</td>\n",
       "      <td>1.579104e+09</td>\n",
       "      <td>74000</td>\n",
       "      <td>529.111615</td>\n",
       "      <td>16</td>\n",
       "      <td>0.000000</td>\n",
       "    </tr>\n",
       "    <tr>\n",
       "      <th>5003</th>\n",
       "      <td>762</td>\n",
       "      <td>1.578539e+09</td>\n",
       "      <td>46000</td>\n",
       "      <td>770.718376</td>\n",
       "      <td>3</td>\n",
       "      <td>77.071838</td>\n",
       "    </tr>\n",
       "    <tr>\n",
       "      <th>16468</th>\n",
       "      <td>2415</td>\n",
       "      <td>1.578722e+09</td>\n",
       "      <td>81000</td>\n",
       "      <td>63.951347</td>\n",
       "      <td>6</td>\n",
       "      <td>0.000000</td>\n",
       "    </tr>\n",
       "    <tr>\n",
       "      <th>...</th>\n",
       "      <td>...</td>\n",
       "      <td>...</td>\n",
       "      <td>...</td>\n",
       "      <td>...</td>\n",
       "      <td>...</td>\n",
       "      <td>...</td>\n",
       "    </tr>\n",
       "    <tr>\n",
       "      <th>10420</th>\n",
       "      <td>1554</td>\n",
       "      <td>1.578658e+09</td>\n",
       "      <td>51000</td>\n",
       "      <td>608.382837</td>\n",
       "      <td>12</td>\n",
       "      <td>0.000000</td>\n",
       "    </tr>\n",
       "    <tr>\n",
       "      <th>11649</th>\n",
       "      <td>1740</td>\n",
       "      <td>1.579612e+09</td>\n",
       "      <td>91000</td>\n",
       "      <td>113.442370</td>\n",
       "      <td>13</td>\n",
       "      <td>0.000000</td>\n",
       "    </tr>\n",
       "    <tr>\n",
       "      <th>24056</th>\n",
       "      <td>3568</td>\n",
       "      <td>1.578604e+09</td>\n",
       "      <td>95000</td>\n",
       "      <td>854.525376</td>\n",
       "      <td>21</td>\n",
       "      <td>0.000000</td>\n",
       "    </tr>\n",
       "    <tr>\n",
       "      <th>4782</th>\n",
       "      <td>732</td>\n",
       "      <td>1.578510e+09</td>\n",
       "      <td>86000</td>\n",
       "      <td>889.827536</td>\n",
       "      <td>19</td>\n",
       "      <td>0.000000</td>\n",
       "    </tr>\n",
       "    <tr>\n",
       "      <th>24560</th>\n",
       "      <td>3636</td>\n",
       "      <td>1.579093e+09</td>\n",
       "      <td>77000</td>\n",
       "      <td>656.956773</td>\n",
       "      <td>13</td>\n",
       "      <td>0.000000</td>\n",
       "    </tr>\n",
       "  </tbody>\n",
       "</table>\n",
       "<p>6744 rows × 6 columns</p>\n",
       "</div>"
      ],
      "text/plain": [
       "         id     unix_time  linea_tc       monto  hora  descuento\n",
       "23067  3425  1.578928e+09     27000  220.436952    15   0.000000\n",
       "4971    759  1.578215e+09     87000  515.551317     9  51.555132\n",
       "12277  1829  1.579104e+09     74000  529.111615    16   0.000000\n",
       "5003    762  1.578539e+09     46000  770.718376     3  77.071838\n",
       "16468  2415  1.578722e+09     81000   63.951347     6   0.000000\n",
       "...     ...           ...       ...         ...   ...        ...\n",
       "10420  1554  1.578658e+09     51000  608.382837    12   0.000000\n",
       "11649  1740  1.579612e+09     91000  113.442370    13   0.000000\n",
       "24056  3568  1.578604e+09     95000  854.525376    21   0.000000\n",
       "4782    732  1.578510e+09     86000  889.827536    19   0.000000\n",
       "24560  3636  1.579093e+09     77000  656.956773    13   0.000000\n",
       "\n",
       "[6744 rows x 6 columns]"
      ]
     },
     "execution_count": 140,
     "metadata": {},
     "output_type": "execute_result"
    }
   ],
   "source": [
    "X_test"
   ]
  },
  {
   "cell_type": "markdown",
   "id": "a0fe181e-ee4d-420b-84b5-8147e97a70c5",
   "metadata": {},
   "source": [
    "# Mitigating Skewdness of Data, Pipelines"
   ]
  },
  {
   "cell_type": "code",
   "execution_count": 53,
   "id": "c8bb8247-f928-418c-a9cd-b70594886498",
   "metadata": {},
   "outputs": [],
   "source": [
    "from sklearn.base import BaseEstimator, TransformerMixin\n",
    "\n",
    "class UnderSamplingPipeline(BaseEstimator, TransformerMixin):\n",
    "    def __init__(self): # no *args or **kargs  \n",
    "        pass\n",
    "    \n",
    "    def fit(self, X, y=None):\n",
    "        return self\n",
    "    \n",
    "    def transform(self, df_var, y=None):\n",
    "        class_0_count, class_1_count = df_var.fraude.value_counts()\n",
    "\n",
    "        tmp_0 = df_var[df_var.fraude == 0]\n",
    "        tmp_1 = df_var[df_var.fraude == 1]\n",
    "\n",
    "        under_sampled_0_df = tmp_0.sample(class_1_count)\n",
    "        under_sampled_df = pd.concat([under_sampled_0_df, tmp_1], axis=0)\n",
    "\n",
    "        return under_sampled_df.sample(frac=1).reset_index(drop=True)\n"
   ]
  },
  {
   "cell_type": "code",
   "execution_count": 54,
   "id": "dd5dbb0d-03db-401d-9d0b-674e531bbbed",
   "metadata": {},
   "outputs": [],
   "source": [
    "undersampling = UnderSamplingPipeline()\n",
    "train_under = undersampling.transform(train_set)"
   ]
  },
  {
   "cell_type": "code",
   "execution_count": 55,
   "id": "6c247dde-001d-4b3f-bc8f-5c3e6c8fb610",
   "metadata": {},
   "outputs": [
    {
     "data": {
      "text/plain": [
       "((1214, 7),\n",
       " 0    607\n",
       " 1    607\n",
       " Name: fraude, dtype: int64)"
      ]
     },
     "execution_count": 55,
     "metadata": {},
     "output_type": "execute_result"
    }
   ],
   "source": [
    "train_under.shape, train_under.fraude.value_counts()"
   ]
  },
  {
   "cell_type": "code",
   "execution_count": 56,
   "id": "0815940a-8f5d-48c6-9752-b6a099eacf06",
   "metadata": {},
   "outputs": [],
   "source": [
    "X_train_under, y_train_under = split_df_into_matrices(train_under)"
   ]
  },
  {
   "cell_type": "code",
   "execution_count": 57,
   "id": "6445c1a5-11a9-442a-95f6-49556435d137",
   "metadata": {},
   "outputs": [
    {
     "data": {
      "text/plain": [
       "((1214, 6), (1214,))"
      ]
     },
     "execution_count": 57,
     "metadata": {},
     "output_type": "execute_result"
    }
   ],
   "source": [
    "X_train_under.shape, y_train_under.shape"
   ]
  },
  {
   "cell_type": "code",
   "execution_count": 58,
   "id": "36f56708-d5a3-4243-9188-5a89425d59f3",
   "metadata": {},
   "outputs": [],
   "source": [
    "class OverSamplingPipeline(BaseEstimator, TransformerMixin):\n",
    "    def __init__(self): # no *args or **kargs  \n",
    "        pass\n",
    "    \n",
    "    def fit(self, X, y=None):\n",
    "        return self\n",
    "    \n",
    "    def transform(self, df_var, y=None):\n",
    "        class_0_count, class_1_count = df_var.fraude.value_counts()\n",
    "\n",
    "        tmp_0 = df_var[df_var.fraude == 0]\n",
    "        tmp_1 = df_var[df_var.fraude == 1]\n",
    "\n",
    "        over_sampled_1_df = tmp_1.sample(class_0_count, replace=True)\n",
    "        over_sampled_df = pd.concat([over_sampled_1_df, tmp_0], axis=0)\n",
    "        over_sampled_df = over_sampled_df.sample(frac=1).reset_index(drop=True)\n",
    "        return over_sampled_df.sample(frac=1, random_state=RANDOM_SEED).reset_index(drop=True)"
   ]
  },
  {
   "cell_type": "code",
   "execution_count": 59,
   "id": "0417015c-d07d-4dc5-8cb7-266148043baa",
   "metadata": {},
   "outputs": [],
   "source": [
    "oversampling = OverSamplingPipeline()\n",
    "train_over = oversampling.transform(train_set)"
   ]
  },
  {
   "cell_type": "code",
   "execution_count": 60,
   "id": "168f1bae-e3fc-4e3f-be7e-b1827d1d41c6",
   "metadata": {},
   "outputs": [
    {
     "data": {
      "text/plain": [
       "((39248, 7),\n",
       " 0    19624\n",
       " 1    19624\n",
       " Name: fraude, dtype: int64)"
      ]
     },
     "execution_count": 60,
     "metadata": {},
     "output_type": "execute_result"
    }
   ],
   "source": [
    "train_over.shape, train_over.fraude.value_counts()"
   ]
  },
  {
   "cell_type": "code",
   "execution_count": 61,
   "id": "44f70747-9308-45f0-b744-ae65bdd04893",
   "metadata": {},
   "outputs": [],
   "source": [
    "X_train_over, y_train_over = split_df_into_matrices(train_over)"
   ]
  },
  {
   "cell_type": "code",
   "execution_count": 62,
   "id": "f13674b2-3271-42e5-9c4b-e46db0924e8c",
   "metadata": {},
   "outputs": [
    {
     "data": {
      "text/plain": [
       "((39248, 6), (39248,))"
      ]
     },
     "execution_count": 62,
     "metadata": {},
     "output_type": "execute_result"
    }
   ],
   "source": [
    "X_train_over.shape, y_train_over.shape"
   ]
  },
  {
   "cell_type": "code",
   "execution_count": 68,
   "id": "3833dbfa-3df5-49e1-a78d-4eb31e65bd15",
   "metadata": {},
   "outputs": [],
   "source": [
    "from imblearn.over_sampling import SMOTE \n",
    "\n",
    "class SMOTESamplingPipeline(BaseEstimator, TransformerMixin):\n",
    "    def __init__(self): # no *args or **kargs  \n",
    "        pass\n",
    "    \n",
    "    def fit(self, X, y=None):\n",
    "        return self\n",
    "    \n",
    "    def transform(self, df_var, y=None):\n",
    "        X, y = split_df_into_matrices(df_var)\n",
    "        \n",
    "        sm = SMOTE(random_state=RANDOM_SEED)\n",
    "        X_res, y_res = sm.fit_resample(X, y)\n",
    "\n",
    "        X_res['fraude'] = y_res\n",
    "\n",
    "        return X_res"
   ]
  },
  {
   "cell_type": "code",
   "execution_count": 69,
   "id": "c78d70d0-457a-48c2-961c-e88c51181da1",
   "metadata": {},
   "outputs": [],
   "source": [
    "smotesampling = SMOTESamplingPipeline()\n",
    "train_smote = smotesampling.transform(train_set)"
   ]
  },
  {
   "cell_type": "code",
   "execution_count": 70,
   "id": "116554ed-f4d7-4de6-a078-d3a849a104f0",
   "metadata": {},
   "outputs": [
    {
     "data": {
      "text/plain": [
       "((39248, 7),\n",
       " 0    19624\n",
       " 1    19624\n",
       " Name: fraude, dtype: int64)"
      ]
     },
     "execution_count": 70,
     "metadata": {},
     "output_type": "execute_result"
    }
   ],
   "source": [
    "train_smote.shape, train_smote.fraude.value_counts()"
   ]
  },
  {
   "cell_type": "code",
   "execution_count": 71,
   "id": "7d79998d-b857-4b3e-8aba-74769cc6ec2f",
   "metadata": {},
   "outputs": [],
   "source": [
    "X_train_smote, y_train_smote = split_df_into_matrices(train_smote)"
   ]
  },
  {
   "cell_type": "code",
   "execution_count": 72,
   "id": "1dde1b6a-ffbc-4aa4-a063-d21f2980a356",
   "metadata": {},
   "outputs": [
    {
     "data": {
      "text/plain": [
       "((39248, 6), (39248,))"
      ]
     },
     "execution_count": 72,
     "metadata": {},
     "output_type": "execute_result"
    }
   ],
   "source": [
    "X_train_smote.shape, y_train_smote.shape"
   ]
  },
  {
   "cell_type": "markdown",
   "id": "586841c6-f45a-4586-b0b6-b4c53f0a8578",
   "metadata": {},
   "source": [
    "# Classification Metrics"
   ]
  },
  {
   "cell_type": "code",
   "execution_count": 73,
   "id": "ce7fecf8-75ae-4686-b11b-9de2ced615bd",
   "metadata": {},
   "outputs": [],
   "source": [
    "from sklearn.metrics import accuracy_score, precision_score, recall_score, f1_score, classification_report, confusion_matrix\n",
    "\n",
    "# print(classification_report(y_test, y_pred, target_names = iris.target_names))\n",
    "#     print('\\nClassification Report\\n')\n",
    "    \n",
    "def metrics(y_true, y_pred):\n",
    "    print('\\nAccuracy: {:.2f}'.format(accuracy_score(y_true, y_pred)))\n",
    "    print('Precision: {:.2f}'.format(precision_score(y_true, y_pred)))\n",
    "    print('Recall: {:.2f}'.format(recall_score(y_true, y_pred)))\n",
    "    print('F1-score: {:.2f}\\n'.format(f1_score(y_true, y_pred)))\n",
    "    cm = confusion_matrix(y_true, y_pred)\n",
    "    print(cm)\n"
   ]
  },
  {
   "cell_type": "markdown",
   "id": "751c41ee-c645-4598-aba8-4ae15ecd39b2",
   "metadata": {},
   "source": [
    "# Prepare the data"
   ]
  },
  {
   "cell_type": "code",
   "execution_count": 86,
   "id": "435a1491-7fd2-4c39-8166-41e39380eb6b",
   "metadata": {},
   "outputs": [],
   "source": [
    "from sklearn.preprocessing import StandardScaler\n",
    "scaler = StandardScaler()\n",
    "\n",
    "\n",
    "X_train_over_prepared = scaler.fit_transform(X_train_over)\n",
    "X_test_over_prepared = scaler.transform(X_test)\n",
    "\n",
    "X_train_smote_prepared = scaler.fit_transform(X_train_smote)\n",
    "X_test_smote_prepared = scaler.transform(X_test)\n",
    "\n",
    "\n",
    "X_train_under_prepared = scaler.fit_transform(X_train_under)\n",
    "X_test_under_prepared = scaler.transform(X_test)\n",
    "\n",
    "\n",
    "X_train_prepared = scaler.fit_transform(X_train)\n",
    "X_test_prepared = scaler.transform(X_test)"
   ]
  },
  {
   "cell_type": "markdown",
   "id": "f9cff1c7-ce0a-4a9e-8ba4-83f74cdc5817",
   "metadata": {},
   "source": [
    "# Shortlisting Models"
   ]
  },
  {
   "cell_type": "code",
   "execution_count": 74,
   "id": "0c6feaa3-4c8a-4dea-93ff-6c3b918cce96",
   "metadata": {},
   "outputs": [],
   "source": [
    "from sklearn.ensemble import RandomForestClassifier\n",
    "forest_clf_100 = RandomForestClassifier(n_estimators=100, random_state=RANDOM_SEED)\n",
    "forest_clf_50 = RandomForestClassifier(n_estimators=50, random_state=RANDOM_SEED)"
   ]
  },
  {
   "cell_type": "code",
   "execution_count": 118,
   "id": "26d42dcc-b8d6-4cea-b5c9-96c079d610b9",
   "metadata": {},
   "outputs": [],
   "source": [
    "from sklearn.neighbors import KNeighborsClassifier\n",
    "knn_clf_5 = KNeighborsClassifier(n_neighbors = 5)\n",
    "knn_clf_3 = KNeighborsClassifier(n_neighbors = 2)"
   ]
  },
  {
   "cell_type": "code",
   "execution_count": 99,
   "id": "cb67635d-2149-4a64-99d6-e5a53ca4ccca",
   "metadata": {},
   "outputs": [],
   "source": [
    "from sklearn.linear_model import LogisticRegression\n",
    "log_reg = LogisticRegression(solver=\"lbfgs\", random_state=RANDOM_SEED)"
   ]
  },
  {
   "cell_type": "code",
   "execution_count": 93,
   "id": "e0d7989b-59d5-4129-958c-cf28ec171f05",
   "metadata": {},
   "outputs": [],
   "source": [
    "from sklearn.svm import SVC\n",
    "from sklearn.svm import LinearSVC\n",
    "svm_linear_clf = LinearSVC(loss=\"hinge\", random_state=42)\n",
    "svc_poly_clf = SVC(kernel=\"poly\", degree=6)\n",
    "svc_rbf_clf = SVC(kernel=\"rbf\")"
   ]
  },
  {
   "cell_type": "code",
   "execution_count": 103,
   "id": "b2963330-626f-4044-a413-0d7ce0da4170",
   "metadata": {},
   "outputs": [],
   "source": [
    "from sklearn.neural_network import MLPClassifier\n",
    "mlp_clf_lbfgs = MLPClassifier(solver='lbfgs',hidden_layer_sizes=(25, 15, 2), random_state=RANDOM_SEED, max_iter=1000)\n",
    "mlp_clf_adam = MLPClassifier(solver='adam',hidden_layer_sizes=(10, 10, 5), random_state=RANDOM_SEED, max_iter=1000)"
   ]
  },
  {
   "cell_type": "markdown",
   "id": "2a2fef9c-0f35-488c-8769-c641ac44550b",
   "metadata": {},
   "source": [
    "## RandomForestClassifier"
   ]
  },
  {
   "cell_type": "code",
   "execution_count": 89,
   "id": "b15dbc0b-de7e-4abc-916c-72fabc2459aa",
   "metadata": {},
   "outputs": [
    {
     "name": "stdout",
     "output_type": "stream",
     "text": [
      "\n",
      "Accuracy: 0.97\n",
      "Precision: 0.00\n",
      "Recall: 0.00\n",
      "F1-score: 0.00\n",
      "\n",
      "[[6541    0]\n",
      " [ 203    0]]\n",
      "\n",
      "Accuracy: 0.97\n",
      "Precision: 0.00\n",
      "Recall: 0.00\n",
      "F1-score: 0.00\n",
      "\n",
      "[[6541    0]\n",
      " [ 203    0]]\n"
     ]
    },
    {
     "name": "stderr",
     "output_type": "stream",
     "text": [
      "C:\\Users\\Alberto141\\anaconda3\\lib\\site-packages\\sklearn\\metrics\\_classification.py:1248: UndefinedMetricWarning: Precision is ill-defined and being set to 0.0 due to no predicted samples. Use `zero_division` parameter to control this behavior.\n",
      "  _warn_prf(average, modifier, msg_start, len(result))\n",
      "C:\\Users\\Alberto141\\anaconda3\\lib\\site-packages\\sklearn\\metrics\\_classification.py:1248: UndefinedMetricWarning: Precision is ill-defined and being set to 0.0 due to no predicted samples. Use `zero_division` parameter to control this behavior.\n",
      "  _warn_prf(average, modifier, msg_start, len(result))\n"
     ]
    }
   ],
   "source": [
    "forest_clf_100.fit(X_train_prepared, y_train)\n",
    "forest_clf_50.fit(X_train_prepared, y_train)\n",
    "\n",
    "y_pred_forest_clf_100 = forest_clf_100.predict(X_test_prepared)\n",
    "y_pred_forest_clf_50 = forest_clf_50.predict(X_test_prepared)\n",
    "\n",
    "metrics(y_test, y_pred_forest_clf_100)\n",
    "metrics(y_test, y_pred_forest_clf_50)"
   ]
  },
  {
   "cell_type": "code",
   "execution_count": 90,
   "id": "90175b11-15db-4dc2-bc1d-dc77b59b6903",
   "metadata": {},
   "outputs": [
    {
     "name": "stdout",
     "output_type": "stream",
     "text": [
      "\n",
      "Accuracy: 0.97\n",
      "Precision: 0.00\n",
      "Recall: 0.00\n",
      "F1-score: 0.00\n",
      "\n",
      "[[6539    2]\n",
      " [ 203    0]]\n",
      "\n",
      "Accuracy: 0.97\n",
      "Precision: 0.00\n",
      "Recall: 0.00\n",
      "F1-score: 0.00\n",
      "\n",
      "[[6539    2]\n",
      " [ 203    0]]\n"
     ]
    }
   ],
   "source": [
    "forest_clf_100.fit(X_train_over_prepared, y_train_over)\n",
    "forest_clf_50.fit(X_train_over_prepared, y_train_over)\n",
    "\n",
    "y_pred_forest_clf_100 = forest_clf_100.predict(X_test_prepared)\n",
    "y_pred_forest_clf_50 = forest_clf_50.predict(X_test_prepared)\n",
    "\n",
    "metrics(y_test, y_pred_forest_clf_100)\n",
    "metrics(y_test, y_pred_forest_clf_50)"
   ]
  },
  {
   "cell_type": "code",
   "execution_count": 91,
   "id": "73aaff54-15a8-46b6-a234-c4f1160a6e13",
   "metadata": {},
   "outputs": [
    {
     "name": "stdout",
     "output_type": "stream",
     "text": [
      "\n",
      "Accuracy: 0.24\n",
      "Precision: 0.03\n",
      "Recall: 0.79\n",
      "F1-score: 0.06\n",
      "\n",
      "[[1477 5064]\n",
      " [  42  161]]\n",
      "\n",
      "Accuracy: 0.25\n",
      "Precision: 0.03\n",
      "Recall: 0.80\n",
      "F1-score: 0.06\n",
      "\n",
      "[[1498 5043]\n",
      " [  41  162]]\n"
     ]
    }
   ],
   "source": [
    "forest_clf_100.fit(X_train_smote_prepared, y_train_smote)\n",
    "forest_clf_50.fit(X_train_smote_prepared, y_train_smote)\n",
    "\n",
    "y_pred_forest_clf_100 = forest_clf_100.predict(X_test_prepared)\n",
    "y_pred_forest_clf_50 = forest_clf_50.predict(X_test_prepared)\n",
    "\n",
    "metrics(y_test, y_pred_forest_clf_100)\n",
    "metrics(y_test, y_pred_forest_clf_50)"
   ]
  },
  {
   "cell_type": "markdown",
   "id": "2755f87f-bb89-4638-ada2-df8b8273e5ab",
   "metadata": {},
   "source": [
    "## SVM"
   ]
  },
  {
   "cell_type": "code",
   "execution_count": 94,
   "id": "e6cb7aec-4fee-4135-8d58-1dc260e68950",
   "metadata": {},
   "outputs": [
    {
     "name": "stdout",
     "output_type": "stream",
     "text": [
      "\n",
      "Accuracy: 0.97\n",
      "Precision: 0.00\n",
      "Recall: 0.00\n",
      "F1-score: 0.00\n",
      "\n",
      "[[6541    0]\n",
      " [ 203    0]]\n",
      "\n",
      "Accuracy: 0.97\n",
      "Precision: 0.00\n",
      "Recall: 0.00\n",
      "F1-score: 0.00\n",
      "\n",
      "[[6540    1]\n",
      " [ 203    0]]\n",
      "\n",
      "Accuracy: 0.97\n",
      "Precision: 0.00\n",
      "Recall: 0.00\n",
      "F1-score: 0.00\n",
      "\n",
      "[[6541    0]\n",
      " [ 203    0]]\n"
     ]
    },
    {
     "name": "stderr",
     "output_type": "stream",
     "text": [
      "C:\\Users\\Alberto141\\anaconda3\\lib\\site-packages\\sklearn\\metrics\\_classification.py:1248: UndefinedMetricWarning: Precision is ill-defined and being set to 0.0 due to no predicted samples. Use `zero_division` parameter to control this behavior.\n",
      "  _warn_prf(average, modifier, msg_start, len(result))\n",
      "C:\\Users\\Alberto141\\anaconda3\\lib\\site-packages\\sklearn\\metrics\\_classification.py:1248: UndefinedMetricWarning: Precision is ill-defined and being set to 0.0 due to no predicted samples. Use `zero_division` parameter to control this behavior.\n",
      "  _warn_prf(average, modifier, msg_start, len(result))\n"
     ]
    }
   ],
   "source": [
    "svm_linear_clf.fit(X_train_prepared, y_train)\n",
    "svc_poly_clf.fit(X_train_prepared, y_train)\n",
    "svc_rbf_clf.fit(X_train_prepared, y_train)\n",
    "\n",
    "y_pred_svm_linear_clf = svm_linear_clf.predict(X_test_prepared)\n",
    "y_pred_svc_poly_clf = svc_poly_clf.predict(X_test_prepared)\n",
    "y_pred_svc_rbf_clf = svc_rbf_clf.predict(X_test_prepared)\n",
    "\n",
    "metrics(y_test, y_pred_svm_linear_clf)\n",
    "metrics(y_test, y_pred_svc_poly_clf)\n",
    "metrics(y_test, y_pred_svc_rbf_clf)"
   ]
  },
  {
   "cell_type": "code",
   "execution_count": 95,
   "id": "f3f72a0a-d594-4efd-b999-2f8e231d32de",
   "metadata": {},
   "outputs": [
    {
     "name": "stderr",
     "output_type": "stream",
     "text": [
      "C:\\Users\\Alberto141\\anaconda3\\lib\\site-packages\\sklearn\\svm\\_base.py:985: ConvergenceWarning: Liblinear failed to converge, increase the number of iterations.\n",
      "  warnings.warn(\"Liblinear failed to converge, increase \"\n"
     ]
    },
    {
     "name": "stdout",
     "output_type": "stream",
     "text": [
      "\n",
      "Accuracy: 0.47\n",
      "Precision: 0.03\n",
      "Recall: 0.54\n",
      "F1-score: 0.06\n",
      "\n",
      "[[3091 3450]\n",
      " [  93  110]]\n",
      "\n",
      "Accuracy: 0.43\n",
      "Precision: 0.03\n",
      "Recall: 0.62\n",
      "F1-score: 0.06\n",
      "\n",
      "[[2742 3799]\n",
      " [  78  125]]\n",
      "\n",
      "Accuracy: 0.53\n",
      "Precision: 0.03\n",
      "Recall: 0.52\n",
      "F1-score: 0.06\n",
      "\n",
      "[[3471 3070]\n",
      " [  98  105]]\n"
     ]
    }
   ],
   "source": [
    "svm_linear_clf.fit(X_train_smote_prepared, y_train_smote)\n",
    "svc_poly_clf.fit(X_train_smote_prepared, y_train_smote)\n",
    "svc_rbf_clf.fit(X_train_smote_prepared, y_train_smote)\n",
    "\n",
    "y_pred_svm_linear_clf = svm_linear_clf.predict(X_test_prepared)\n",
    "y_pred_svc_poly_clf = svc_poly_clf.predict(X_test_prepared)\n",
    "y_pred_svc_rbf_clf = svc_rbf_clf.predict(X_test_prepared)\n",
    "\n",
    "metrics(y_test, y_pred_svm_linear_clf)\n",
    "metrics(y_test, y_pred_svc_poly_clf)\n",
    "metrics(y_test, y_pred_svc_rbf_clf)"
   ]
  },
  {
   "cell_type": "code",
   "execution_count": 96,
   "id": "f08e3a9d-adb6-4611-be9c-ba9a212998ac",
   "metadata": {},
   "outputs": [
    {
     "name": "stderr",
     "output_type": "stream",
     "text": [
      "C:\\Users\\Alberto141\\anaconda3\\lib\\site-packages\\sklearn\\svm\\_base.py:985: ConvergenceWarning: Liblinear failed to converge, increase the number of iterations.\n",
      "  warnings.warn(\"Liblinear failed to converge, increase \"\n"
     ]
    },
    {
     "name": "stdout",
     "output_type": "stream",
     "text": [
      "\n",
      "Accuracy: 0.50\n",
      "Precision: 0.03\n",
      "Recall: 0.55\n",
      "F1-score: 0.06\n",
      "\n",
      "[[3287 3254]\n",
      " [  92  111]]\n",
      "\n",
      "Accuracy: 0.48\n",
      "Precision: 0.03\n",
      "Recall: 0.57\n",
      "F1-score: 0.06\n",
      "\n",
      "[[3148 3393]\n",
      " [  88  115]]\n",
      "\n",
      "Accuracy: 0.55\n",
      "Precision: 0.03\n",
      "Recall: 0.41\n",
      "F1-score: 0.05\n",
      "\n",
      "[[3653 2888]\n",
      " [ 119   84]]\n"
     ]
    }
   ],
   "source": [
    "svm_linear_clf.fit(X_train_over_prepared, y_train_over)\n",
    "svc_poly_clf.fit(X_train_over_prepared, y_train_over)\n",
    "svc_rbf_clf.fit(X_train_over_prepared, y_train_over)\n",
    "\n",
    "y_pred_svm_linear_clf = svm_linear_clf.predict(X_test_prepared)\n",
    "y_pred_svc_poly_clf = svc_poly_clf.predict(X_test_prepared)\n",
    "y_pred_svc_rbf_clf = svc_rbf_clf.predict(X_test_prepared)\n",
    "\n",
    "metrics(y_test, y_pred_svm_linear_clf)\n",
    "metrics(y_test, y_pred_svc_poly_clf)\n",
    "metrics(y_test, y_pred_svc_rbf_clf)"
   ]
  },
  {
   "cell_type": "markdown",
   "id": "8147712b-92e6-4b72-a45b-1bde99399038",
   "metadata": {},
   "source": [
    "## Logistic Regression"
   ]
  },
  {
   "cell_type": "code",
   "execution_count": 100,
   "id": "b7495a99-1203-4767-862e-8665f516e37c",
   "metadata": {},
   "outputs": [
    {
     "name": "stdout",
     "output_type": "stream",
     "text": [
      "\n",
      "Accuracy: 0.97\n",
      "Precision: 0.00\n",
      "Recall: 0.00\n",
      "F1-score: 0.00\n",
      "\n",
      "[[6541    0]\n",
      " [ 203    0]]\n"
     ]
    },
    {
     "name": "stderr",
     "output_type": "stream",
     "text": [
      "C:\\Users\\Alberto141\\anaconda3\\lib\\site-packages\\sklearn\\metrics\\_classification.py:1248: UndefinedMetricWarning: Precision is ill-defined and being set to 0.0 due to no predicted samples. Use `zero_division` parameter to control this behavior.\n",
      "  _warn_prf(average, modifier, msg_start, len(result))\n"
     ]
    }
   ],
   "source": [
    "log_reg.fit(X_train_prepared, y_train)\n",
    "\n",
    "log_reg_pred = log_reg.predict(X_test_prepared)\n",
    "\n",
    "metrics(y_test, log_reg_pred)"
   ]
  },
  {
   "cell_type": "code",
   "execution_count": 101,
   "id": "4410668e-ef3e-46af-8858-24f61c0b8f9e",
   "metadata": {},
   "outputs": [
    {
     "name": "stdout",
     "output_type": "stream",
     "text": [
      "\n",
      "Accuracy: 0.51\n",
      "Precision: 0.03\n",
      "Recall: 0.52\n",
      "F1-score: 0.06\n",
      "\n",
      "[[3316 3225]\n",
      " [  98  105]]\n"
     ]
    }
   ],
   "source": [
    "log_reg.fit(X_train_smote_prepared, y_train_smote)\n",
    "\n",
    "log_reg_pred = log_reg.predict(X_test_prepared)\n",
    "\n",
    "metrics(y_test, log_reg_pred)"
   ]
  },
  {
   "cell_type": "code",
   "execution_count": 102,
   "id": "41a3bd97-aff2-4858-98b4-17a92aeea32f",
   "metadata": {},
   "outputs": [
    {
     "name": "stdout",
     "output_type": "stream",
     "text": [
      "\n",
      "Accuracy: 0.50\n",
      "Precision: 0.03\n",
      "Recall: 0.51\n",
      "F1-score: 0.06\n",
      "\n",
      "[[3299 3242]\n",
      " [ 100  103]]\n"
     ]
    }
   ],
   "source": [
    "log_reg.fit(X_train_over_prepared, y_train_over)\n",
    "\n",
    "log_reg_pred = log_reg.predict(X_test_prepared)\n",
    "\n",
    "metrics(y_test, log_reg_pred)"
   ]
  },
  {
   "cell_type": "markdown",
   "id": "8d87dfe1-eafa-4151-af69-a3d6b2fae02c",
   "metadata": {},
   "source": [
    "## MLP"
   ]
  },
  {
   "cell_type": "code",
   "execution_count": 104,
   "id": "7132e574-d254-4cd6-9ce7-574a29f50d72",
   "metadata": {},
   "outputs": [
    {
     "name": "stderr",
     "output_type": "stream",
     "text": [
      "C:\\Users\\Alberto141\\anaconda3\\lib\\site-packages\\sklearn\\neural_network\\_multilayer_perceptron.py:500: ConvergenceWarning: lbfgs failed to converge (status=1):\n",
      "STOP: TOTAL NO. of ITERATIONS REACHED LIMIT.\n",
      "\n",
      "Increase the number of iterations (max_iter) or scale the data as shown in:\n",
      "    https://scikit-learn.org/stable/modules/preprocessing.html\n",
      "  self.n_iter_ = _check_optimize_result(\"lbfgs\", opt_res, self.max_iter)\n"
     ]
    },
    {
     "name": "stdout",
     "output_type": "stream",
     "text": [
      "\n",
      "Accuracy: 0.97\n",
      "Precision: 0.00\n",
      "Recall: 0.00\n",
      "F1-score: 0.00\n",
      "\n",
      "[[6541    0]\n",
      " [ 203    0]]\n",
      "\n",
      "Accuracy: 0.97\n",
      "Precision: 0.00\n",
      "Recall: 0.00\n",
      "F1-score: 0.00\n",
      "\n",
      "[[6541    0]\n",
      " [ 203    0]]\n"
     ]
    },
    {
     "name": "stderr",
     "output_type": "stream",
     "text": [
      "C:\\Users\\Alberto141\\anaconda3\\lib\\site-packages\\sklearn\\metrics\\_classification.py:1248: UndefinedMetricWarning: Precision is ill-defined and being set to 0.0 due to no predicted samples. Use `zero_division` parameter to control this behavior.\n",
      "  _warn_prf(average, modifier, msg_start, len(result))\n",
      "C:\\Users\\Alberto141\\anaconda3\\lib\\site-packages\\sklearn\\metrics\\_classification.py:1248: UndefinedMetricWarning: Precision is ill-defined and being set to 0.0 due to no predicted samples. Use `zero_division` parameter to control this behavior.\n",
      "  _warn_prf(average, modifier, msg_start, len(result))\n"
     ]
    }
   ],
   "source": [
    "mlp_clf_lbfgs.fit(X_train_prepared, y_train)\n",
    "mlp_clf_adam.fit(X_train_prepared, y_train)\n",
    "\n",
    "mlp_clf_lbfgs_pred = mlp_clf_lbfgs.predict(X_test_prepared)\n",
    "mlp_clf_adam_pred = mlp_clf_adam.predict(X_test_prepared)\n",
    "\n",
    "metrics(y_test, mlp_clf_lbfgs_pred)\n",
    "metrics(y_test, mlp_clf_adam_pred)"
   ]
  },
  {
   "cell_type": "code",
   "execution_count": 105,
   "id": "38e4ec7a-e14d-4927-b3c0-edd9e8f6450b",
   "metadata": {},
   "outputs": [
    {
     "name": "stdout",
     "output_type": "stream",
     "text": [
      "\n",
      "Accuracy: 0.03\n",
      "Precision: 0.03\n",
      "Recall: 1.00\n",
      "F1-score: 0.06\n",
      "\n",
      "[[   3 6538]\n",
      " [   0  203]]\n",
      "\n",
      "Accuracy: 0.10\n",
      "Precision: 0.03\n",
      "Recall: 0.91\n",
      "F1-score: 0.06\n",
      "\n",
      "[[ 484 6057]\n",
      " [  18  185]]\n"
     ]
    }
   ],
   "source": [
    "mlp_clf_lbfgs.fit(X_train_smote_prepared, y_train_smote)\n",
    "mlp_clf_adam.fit(X_train_smote_prepared, y_train_smote)\n",
    "\n",
    "mlp_clf_lbfgs_pred = mlp_clf_lbfgs.predict(X_test_prepared)\n",
    "mlp_clf_adam_pred = mlp_clf_adam.predict(X_test_prepared)\n",
    "\n",
    "metrics(y_test, mlp_clf_lbfgs_pred)\n",
    "metrics(y_test, mlp_clf_adam_pred)"
   ]
  },
  {
   "cell_type": "code",
   "execution_count": 106,
   "id": "70078e46-f520-4b9e-afd8-d9ce0eb39b52",
   "metadata": {},
   "outputs": [
    {
     "name": "stderr",
     "output_type": "stream",
     "text": [
      "C:\\Users\\Alberto141\\anaconda3\\lib\\site-packages\\sklearn\\neural_network\\_multilayer_perceptron.py:500: ConvergenceWarning: lbfgs failed to converge (status=1):\n",
      "STOP: TOTAL NO. of ITERATIONS REACHED LIMIT.\n",
      "\n",
      "Increase the number of iterations (max_iter) or scale the data as shown in:\n",
      "    https://scikit-learn.org/stable/modules/preprocessing.html\n",
      "  self.n_iter_ = _check_optimize_result(\"lbfgs\", opt_res, self.max_iter)\n"
     ]
    },
    {
     "name": "stdout",
     "output_type": "stream",
     "text": [
      "\n",
      "Accuracy: 0.39\n",
      "Precision: 0.03\n",
      "Recall: 0.60\n",
      "F1-score: 0.06\n",
      "\n",
      "[[2495 4046]\n",
      " [  81  122]]\n",
      "\n",
      "Accuracy: 0.62\n",
      "Precision: 0.04\n",
      "Recall: 0.44\n",
      "F1-score: 0.07\n",
      "\n",
      "[[4085 2456]\n",
      " [ 113   90]]\n"
     ]
    }
   ],
   "source": [
    "mlp_clf_lbfgs.fit(X_train_over_prepared, y_train_over)\n",
    "mlp_clf_adam.fit(X_train_over_prepared, y_train_over)\n",
    "\n",
    "mlp_clf_lbfgs_pred = mlp_clf_lbfgs.predict(X_test_prepared)\n",
    "mlp_clf_adam_pred = mlp_clf_adam.predict(X_test_prepared)\n",
    "\n",
    "metrics(y_test, mlp_clf_lbfgs_pred)\n",
    "metrics(y_test, mlp_clf_adam_pred)"
   ]
  },
  {
   "cell_type": "markdown",
   "id": "41fc088e-2bc9-4047-99de-4537754b111d",
   "metadata": {},
   "source": [
    "## K-NN"
   ]
  },
  {
   "cell_type": "code",
   "execution_count": 119,
   "id": "bdca7da1-9cb0-404f-9423-28f58bbae157",
   "metadata": {},
   "outputs": [
    {
     "name": "stdout",
     "output_type": "stream",
     "text": [
      "\n",
      "Accuracy: 0.39\n",
      "Precision: 0.03\n",
      "Recall: 0.60\n",
      "F1-score: 0.06\n",
      "\n",
      "[[2495 4046]\n",
      " [  81  122]]\n",
      "\n",
      "Accuracy: 0.62\n",
      "Precision: 0.04\n",
      "Recall: 0.44\n",
      "F1-score: 0.07\n",
      "\n",
      "[[4085 2456]\n",
      " [ 113   90]]\n"
     ]
    }
   ],
   "source": [
    "knn_clf_5.fit(X_train_over_prepared, y_train_over)\n",
    "knn_clf_3.fit(X_train_over_prepared, y_train_over)\n",
    "\n",
    "knn_clf_5_pred = mlp_clf_lbfgs.predict(X_test_prepared)\n",
    "knn_clf_3_pred = mlp_clf_adam.predict(X_test_prepared)\n",
    "\n",
    "metrics(y_test, knn_clf_5_pred)\n",
    "metrics(y_test, knn_clf_3_pred)\n"
   ]
  },
  {
   "cell_type": "markdown",
   "id": "620ac19a-3232-46bd-9573-cef924eb5bbc",
   "metadata": {},
   "source": [
    "## Under Ensemble"
   ]
  },
  {
   "cell_type": "code",
   "execution_count": 121,
   "id": "f969d9b9-7500-46ea-98a5-6dbe494f0f8e",
   "metadata": {},
   "outputs": [
    {
     "name": "stdout",
     "output_type": "stream",
     "text": [
      "\n",
      "Accuracy: 0.51\n",
      "Precision: 0.03\n",
      "Recall: 0.46\n",
      "F1-score: 0.05\n",
      "\n",
      "[[3364 3177]\n",
      " [ 109   94]]\n"
     ]
    }
   ],
   "source": [
    "list_of_targets = []\n",
    "\n",
    "for _ in range(0, 10):\n",
    "    undersampling = UnderSamplingPipeline()\n",
    "    train_under = undersampling.transform(train_set)\n",
    "\n",
    "    X_train_under, y_train_under = split_df_into_matrices(train_under)\n",
    "    X_train_under_prepared = scaler.fit_transform(X_train_under)\n",
    "\n",
    "    log_reg.fit(X_train_under_prepared, y_train_under)\n",
    "    log_reg_pred = log_reg.predict(X_test_prepared)\n",
    "    \n",
    "    list_of_targets.append(log_reg_pred)\n",
    "\n",
    "array_of_targets = np.array(list_of_targets)\n",
    "results = array_of_targets.sum(axis=0)\n",
    "results = results<5\n",
    "y_pred = results.astype(int)\n",
    "metrics(y_test, y_pred)"
   ]
  },
  {
   "cell_type": "code",
   "execution_count": 123,
   "id": "bbf47a03-e6cb-4224-aa83-6049b91d7327",
   "metadata": {},
   "outputs": [
    {
     "name": "stdout",
     "output_type": "stream",
     "text": [
      "\n",
      "Accuracy: 0.58\n",
      "Precision: 0.03\n",
      "Recall: 0.39\n",
      "F1-score: 0.05\n",
      "\n",
      "[[3799 2742]\n",
      " [ 123   80]]\n"
     ]
    }
   ],
   "source": [
    "list_of_targets = []\n",
    "\n",
    "for _ in range(0, 10):\n",
    "    undersampling = UnderSamplingPipeline()\n",
    "    train_under = undersampling.transform(train_set)\n",
    "\n",
    "    X_train_under, y_train_under = split_df_into_matrices(train_under)\n",
    "    X_train_under_prepared = scaler.fit_transform(X_train_under)\n",
    "\n",
    "    svc_rbf_clf.fit(X_train_under_prepared, y_train_under)\n",
    "    y_pred_svc_rbf_clf = svc_rbf_clf.predict(X_test_prepared)\n",
    "    \n",
    "    list_of_targets.append(y_pred_svc_rbf_clf)\n",
    "\n",
    "array_of_targets = np.array(list_of_targets)\n",
    "results = array_of_targets.sum(axis=0)\n",
    "results = results<5\n",
    "y_pred = results.astype(int)\n",
    "metrics(y_test, y_pred)"
   ]
  },
  {
   "cell_type": "code",
   "execution_count": 125,
   "id": "ab1de194-ef77-4ef6-8c0b-720bb5fedc52",
   "metadata": {},
   "outputs": [
    {
     "name": "stdout",
     "output_type": "stream",
     "text": [
      "\n",
      "Accuracy: 0.81\n",
      "Precision: 0.02\n",
      "Recall: 0.14\n",
      "F1-score: 0.04\n",
      "\n",
      "[[5407 1134]\n",
      " [ 174   29]]\n"
     ]
    }
   ],
   "source": [
    "list_of_targets = []\n",
    "\n",
    "for _ in range(0, 20):\n",
    "    undersampling = UnderSamplingPipeline()\n",
    "    train_under = undersampling.transform(train_set)\n",
    "\n",
    "    X_train_under, y_train_under = split_df_into_matrices(train_under)\n",
    "    X_train_under_prepared = scaler.fit_transform(X_train_under)\n",
    "\n",
    "    svc_poly_clf.fit(X_train_under_prepared, y_train_under)\n",
    "    y_pred_svc_poly_clf = svc_poly_clf.predict(X_test_prepared)\n",
    "    \n",
    "    list_of_targets.append(y_pred_svc_poly_clf)\n",
    "\n",
    "array_of_targets = np.array(list_of_targets)\n",
    "results = array_of_targets.sum(axis=0)\n",
    "results = results<5\n",
    "y_pred = results.astype(int)\n",
    "metrics(y_test, y_pred)"
   ]
  },
  {
   "cell_type": "markdown",
   "id": "36395092-ead9-4364-9960-b198ba17a5fa",
   "metadata": {},
   "source": [
    "# Ensemble Methods"
   ]
  },
  {
   "cell_type": "markdown",
   "id": "12b977e7-9873-4976-9b60-8c65f91551c2",
   "metadata": {},
   "source": [
    "## Bagging classifier"
   ]
  },
  {
   "cell_type": "code",
   "execution_count": 126,
   "id": "4f01eb9e-937c-4c1c-95d7-254220e3cf73",
   "metadata": {},
   "outputs": [
    {
     "name": "stdout",
     "output_type": "stream",
     "text": [
      "\n",
      "Accuracy: 0.97\n",
      "Precision: 0.00\n",
      "Recall: 0.00\n",
      "F1-score: 0.00\n",
      "\n",
      "[[6538    3]\n",
      " [ 203    0]]\n"
     ]
    }
   ],
   "source": [
    "from sklearn.ensemble import BaggingClassifier\n",
    "from sklearn.tree import DecisionTreeClassifier\n",
    "\n",
    "bc = BaggingClassifier(base_estimator=DecisionTreeClassifier(), random_state=RANDOM_SEED)\n",
    "bc.fit(X_train_prepared, y_train) \n",
    "\n",
    "y_pred = bc.predict(X_test_prepared)\n",
    "metrics(y_test, y_pred)"
   ]
  },
  {
   "cell_type": "code",
   "execution_count": 128,
   "id": "8c0cb539-2e8f-4393-8cc8-b020dd3d9958",
   "metadata": {},
   "outputs": [
    {
     "name": "stdout",
     "output_type": "stream",
     "text": [
      "\n",
      "Accuracy: 0.79\n",
      "Precision: 0.03\n",
      "Recall: 0.19\n",
      "F1-score: 0.05\n",
      "\n",
      "[[5285 1256]\n",
      " [ 165   38]]\n"
     ]
    }
   ],
   "source": [
    "from imblearn.ensemble import BalancedBaggingClassifier\n",
    "\n",
    "bbc = BalancedBaggingClassifier(base_estimator=DecisionTreeClassifier(), sampling_strategy='auto', replacement=False, random_state=RANDOM_SEED)\n",
    "bbc.fit(X_train_prepared, y_train) \n",
    "\n",
    "y_pred = bbc.predict(X_test_prepared)\n",
    "metrics(y_test, y_pred)"
   ]
  },
  {
   "cell_type": "markdown",
   "id": "501a5db6-3cd5-431a-ab5c-601d6785e93c",
   "metadata": {},
   "source": [
    "## Balanced Forest of randomized trees"
   ]
  },
  {
   "cell_type": "code",
   "execution_count": 129,
   "id": "63ee2e3a-eb98-4625-a358-ee0322307977",
   "metadata": {},
   "outputs": [
    {
     "name": "stdout",
     "output_type": "stream",
     "text": [
      "\n",
      "Accuracy: 0.51\n",
      "Precision: 0.03\n",
      "Recall: 0.46\n",
      "F1-score: 0.05\n",
      "\n",
      "[[3340 3201]\n",
      " [ 109   94]]\n"
     ]
    }
   ],
   "source": [
    "from imblearn.ensemble import BalancedRandomForestClassifier\n",
    "\n",
    "brf = BalancedRandomForestClassifier(n_estimators=100, random_state=RANDOM_SEED)\n",
    "brf.fit(X_train_prepared, y_train) \n",
    "\n",
    "y_pred = brf.predict(X_test_prepared)\n",
    "metrics(y_test, y_pred)"
   ]
  },
  {
   "cell_type": "markdown",
   "id": "5a159728-21ba-4f85-88a9-3b547485cc7d",
   "metadata": {},
   "source": [
    "## Boosting"
   ]
  },
  {
   "cell_type": "code",
   "execution_count": 130,
   "id": "fb12a8c3-9b2b-424c-badd-5912ae82f7e3",
   "metadata": {},
   "outputs": [
    {
     "name": "stdout",
     "output_type": "stream",
     "text": [
      "\n",
      "Accuracy: 0.59\n",
      "Precision: 0.03\n",
      "Recall: 0.38\n",
      "F1-score: 0.05\n",
      "\n",
      "[[3905 2636]\n",
      " [ 125   78]]\n"
     ]
    }
   ],
   "source": [
    "from imblearn.ensemble import RUSBoostClassifier\n",
    "rusboost = RUSBoostClassifier(n_estimators=200, algorithm='SAMME.R', random_state=RANDOM_SEED)\n",
    "rusboost.fit(X_train_prepared, y_train)  \n",
    "\n",
    "y_pred = rusboost.predict(X_test_prepared)\n",
    "metrics(y_test, y_pred)"
   ]
  },
  {
   "cell_type": "code",
   "execution_count": 131,
   "id": "4371a9ba-000c-4a31-95db-c4670fe5a134",
   "metadata": {},
   "outputs": [
    {
     "name": "stdout",
     "output_type": "stream",
     "text": [
      "\n",
      "Accuracy: 0.49\n",
      "Precision: 0.03\n",
      "Recall: 0.54\n",
      "F1-score: 0.06\n",
      "\n",
      "[[3185 3356]\n",
      " [  94  109]]\n"
     ]
    }
   ],
   "source": [
    "from imblearn.ensemble import EasyEnsembleClassifier\n",
    "eec = EasyEnsembleClassifier(random_state=RANDOM_SEED)\n",
    "eec.fit(X_train_prepared, y_train) \n",
    "\n",
    "y_pred = eec.predict(X_test_prepared)\n",
    "metrics(y_test, y_pred)"
   ]
  },
  {
   "cell_type": "markdown",
   "id": "38d1393e-fa2d-40e4-a159-4eb417d32392",
   "metadata": {},
   "source": [
    "# SVM in depth"
   ]
  },
  {
   "cell_type": "code",
   "execution_count": 163,
   "id": "458b584c-5270-4fc4-a966-2dc140784f1c",
   "metadata": {},
   "outputs": [],
   "source": [
    "%matplotlib inline\n",
    "import matplotlib as mpl\n",
    "import matplotlib.pyplot as plt\n",
    "from sklearn.metrics import precision_recall_curve"
   ]
  },
  {
   "cell_type": "code",
   "execution_count": 242,
   "id": "00c6927d-7cac-42d3-8ba5-5934200d2693",
   "metadata": {},
   "outputs": [],
   "source": [
    "def plot_precision_recall_vs_threshold(precisions, recalls, thresholds):\n",
    "    plt.figure(figsize=(8, 4))   \n",
    "    plt.plot(thresholds, precisions[:-1], \"b--\", label=\"Precision\", linewidth=2)\n",
    "    plt.plot(thresholds, recalls[:-1], \"g-\", label=\"Recall\", linewidth=2)\n",
    "    plt.legend(loc=\"center right\", fontsize=16)\n",
    "    plt.xlabel(\"Threshold\", fontsize=16)       \n",
    "    plt.grid(True)                              \n",
    "    plt.axis([-10, 10, 0, 1])             \n",
    "    plt.show()"
   ]
  },
  {
   "cell_type": "code",
   "execution_count": 249,
   "id": "7be3af96-9f9f-410e-9a48-ca81aeea5e06",
   "metadata": {},
   "outputs": [],
   "source": [
    "def plot_precision_vs_recall(precisions, recalls):\n",
    "    plt.figure(figsize=(8, 6))\n",
    "    plt.plot(recalls, precisions, \"b-\", linewidth=2)\n",
    "    plt.xlabel(\"Recall\", fontsize=16)\n",
    "    plt.ylabel(\"Precision\", fontsize=16)\n",
    "    plt.axis([0, 1, 0, 1])\n",
    "    plt.grid(True)\n",
    "    plt.show()"
   ]
  },
  {
   "cell_type": "code",
   "execution_count": 164,
   "id": "77ddb4c7-ac40-4e97-a370-6079fc531fe7",
   "metadata": {},
   "outputs": [],
   "source": [
    "from sklearn.svm import SVC\n",
    "\n",
    "svc_poly_clf = SVC(kernel=\"poly\", degree=3)\n",
    "svc_rbf_clf = SVC(kernel=\"rbf\")"
   ]
  },
  {
   "cell_type": "markdown",
   "id": "a0c7d01b-aab4-4e57-9544-3685f1ae11ed",
   "metadata": {},
   "source": [
    "# Polynomial SVM"
   ]
  },
  {
   "cell_type": "code",
   "execution_count": 217,
   "id": "0055dfb9-8061-476c-a5d6-ca2eec60b9e5",
   "metadata": {},
   "outputs": [],
   "source": [
    "from sklearn.model_selection import cross_val_predict\n",
    "\n",
    "y_pred_cross_predict_poly = cross_val_predict(svc_poly_clf, X_train_prepared, y_train, cv=3)\n",
    "y_pred_cross_decision_poly = cross_val_predict(svc_poly_clf, X_train_prepared, y_train, cv=3, method=\"decision_function\")"
   ]
  },
  {
   "cell_type": "code",
   "execution_count": 245,
   "id": "5f6baeea-d507-4bcf-8325-f00327e0f442",
   "metadata": {},
   "outputs": [],
   "source": [
    "precisions, recalls, thresholds = precision_recall_curve(y_train.astype(bool), y_pred_cross_decision_poly)"
   ]
  },
  {
   "cell_type": "code",
   "execution_count": 218,
   "id": "f2601685-39c6-469f-bde1-6d86f9698dbd",
   "metadata": {},
   "outputs": [
    {
     "name": "stdout",
     "output_type": "stream",
     "text": [
      "\n",
      "Accuracy: 0.97\n",
      "Precision: 0.00\n",
      "Recall: 0.00\n",
      "F1-score: 0.00\n",
      "\n",
      "[[19624     0]\n",
      " [  607     0]]\n"
     ]
    },
    {
     "name": "stderr",
     "output_type": "stream",
     "text": [
      "C:\\Users\\Alberto141\\anaconda3\\lib\\site-packages\\sklearn\\metrics\\_classification.py:1248: UndefinedMetricWarning: Precision is ill-defined and being set to 0.0 due to no predicted samples. Use `zero_division` parameter to control this behavior.\n",
      "  _warn_prf(average, modifier, msg_start, len(result))\n"
     ]
    }
   ],
   "source": [
    "metrics(y_train, y_pred_cross_predict_poly)"
   ]
  },
  {
   "cell_type": "code",
   "execution_count": 244,
   "id": "bed30fbc-003b-48aa-a7c4-6792bcbc3e05",
   "metadata": {},
   "outputs": [
    {
     "data": {
      "image/png": "[encoded data removed]",
      "text/plain": [
       "<Figure size 576x288 with 1 Axes>"
      ]
     },
     "metadata": {
      "needs_background": "light"
     },
     "output_type": "display_data"
    }
   ],
   "source": [
    "plot_precision_recall_vs_threshold(precisions, recalls, thresholds)"
   ]
  },
  {
   "cell_type": "code",
   "execution_count": 193,
   "id": "f002fffa-6019-4293-880f-4d0836439914",
   "metadata": {},
   "outputs": [],
   "source": [
    "y_pred_cross_predict_poly_over = cross_val_predict(svc_poly_clf, X_train_over_prepared, y_train_over, cv=3)\n",
    "y_pred_cross_decision_poly_over = cross_val_predict(svc_poly_clf, X_train_over_prepared, y_train_over, cv=3, method=\"decision_function\")"
   ]
  },
  {
   "cell_type": "code",
   "execution_count": 256,
   "id": "682c98b0-2b51-45d8-84f5-7789c28b100d",
   "metadata": {},
   "outputs": [],
   "source": [
    "precisions, recalls, thresholds = precision_recall_curve(y_train_over.astype(bool), y_pred_cross_decision_poly_over)"
   ]
  },
  {
   "cell_type": "code",
   "execution_count": 257,
   "id": "6c84078f-4430-4a79-902f-44c7061a8d44",
   "metadata": {},
   "outputs": [
    {
     "name": "stdout",
     "output_type": "stream",
     "text": [
      "\n",
      "Accuracy: 0.55\n",
      "Precision: 0.55\n",
      "Recall: 0.55\n",
      "F1-score: 0.55\n",
      "\n",
      "[[10885  8739]\n",
      " [ 8749 10875]]\n"
     ]
    }
   ],
   "source": [
    "metrics(y_train_over, y_pred_cross_predict_poly_over)"
   ]
  },
  {
   "cell_type": "code",
   "execution_count": 258,
   "id": "cc426514-5c7f-41a0-a756-0e0d53e43fd7",
   "metadata": {},
   "outputs": [
    {
     "data": {
      "image/png": "[encoded data removed]",
      "text/plain": [
       "<Figure size 576x288 with 1 Axes>"
      ]
     },
     "metadata": {
      "needs_background": "light"
     },
     "output_type": "display_data"
    },
    {
     "data": {
      "image/png": "[encoded data removed]",
      "text/plain": [
       "<Figure size 576x432 with 1 Axes>"
      ]
     },
     "metadata": {
      "needs_background": "light"
     },
     "output_type": "display_data"
    }
   ],
   "source": [
    "plot_precision_recall_vs_threshold(precisions, recalls, thresholds)\n",
    "plot_precision_vs_recall(precisions, recalls)"
   ]
  },
  {
   "cell_type": "code",
   "execution_count": 194,
   "id": "04070640-504a-4093-afdb-e1f31cd6d958",
   "metadata": {},
   "outputs": [],
   "source": [
    "y_pred_cross_predict_poly_smote = cross_val_predict(svc_poly_clf, X_train_smote_prepared, y_train_smote, cv=3)\n",
    "y_pred_cross_decision_poly_smote = cross_val_predict(svc_poly_clf, X_train_smote_prepared, y_train_smote, cv=3, method=\"decision_function\")"
   ]
  },
  {
   "cell_type": "code",
   "execution_count": 264,
   "id": "a445a01f-4c15-4f02-8d7a-8476784a0c9c",
   "metadata": {},
   "outputs": [],
   "source": [
    "precisions, recalls, thresholds = precision_recall_curve(y_train_smote.astype(bool), y_pred_cross_decision_poly_smote)"
   ]
  },
  {
   "cell_type": "code",
   "execution_count": 265,
   "id": "fbfb221c-c457-4599-9e61-2aba539f87b9",
   "metadata": {},
   "outputs": [
    {
     "name": "stdout",
     "output_type": "stream",
     "text": [
      "\n",
      "Accuracy: 0.62\n",
      "Precision: 0.59\n",
      "Recall: 0.76\n",
      "F1-score: 0.66\n",
      "\n",
      "[[ 9224 10400]\n",
      " [ 4670 14954]]\n"
     ]
    }
   ],
   "source": [
    "metrics(y_train_smote, y_pred_cross_predict_poly_smote)"
   ]
  },
  {
   "cell_type": "code",
   "execution_count": 266,
   "id": "85c39eb8-02ea-4180-98a2-f81c2bff101f",
   "metadata": {},
   "outputs": [
    {
     "data": {
      "image/png": "[encoded data removed]",
      "text/plain": [
       "<Figure size 576x288 with 1 Axes>"
      ]
     },
     "metadata": {
      "needs_background": "light"
     },
     "output_type": "display_data"
    },
    {
     "data": {
      "image/png": "[encoded data removed]",
      "text/plain": [
       "<Figure size 576x432 with 1 Axes>"
      ]
     },
     "metadata": {
      "needs_background": "light"
     },
     "output_type": "display_data"
    }
   ],
   "source": [
    "plot_precision_recall_vs_threshold(precisions, recalls, thresholds)\n",
    "plot_precision_vs_recall(precisions, recalls)"
   ]
  },
  {
   "cell_type": "markdown",
   "id": "1ccc5cdb-0dd9-4dc8-b788-2cf5d177a90b",
   "metadata": {},
   "source": [
    "# rbf SVM"
   ]
  },
  {
   "cell_type": "code",
   "execution_count": null,
   "id": "ca8e0dac-ad20-4cf5-8357-4be2b8bbb8cb",
   "metadata": {},
   "outputs": [],
   "source": [
    "svc_poly_clf.fit(X_train_over_prepared, y_train_over)\n",
    "svc_rbf_clf.fit(X_train_over_prepared, y_train_over)\n",
    "\n",
    "y_pred_svc_poly_clf = svc_poly_clf.predict(X_test_prepared)\n",
    "y_pred_svc_rbf_clf = svc_rbf_clf.predict(X_test_prepared)\n",
    "\n",
    "metrics(y_test, y_pred_svc_poly_clf)\n",
    "metrics(y_test, y_pred_svc_rbf_clf)"
   ]
  },
  {
   "cell_type": "code",
   "execution_count": 267,
   "id": "b60a8011-f016-458b-83af-878d8b1d3c3e",
   "metadata": {},
   "outputs": [],
   "source": [
    "y_pred_cross_predict_rbf = cross_val_predict(svc_rbf_clf, X_train_prepared, y_train, cv=3)\n",
    "y_pred_cross_decision_rbf = cross_val_predict(svc_rbf_clf, X_train_prepared, y_train, cv=3, method=\"decision_function\")"
   ]
  },
  {
   "cell_type": "code",
   "execution_count": 273,
   "id": "1745552d-c48d-4d0b-8a16-89bec7ba2080",
   "metadata": {},
   "outputs": [],
   "source": [
    "precisions, recalls, thresholds = precision_recall_curve(y_train.astype(bool), y_pred_cross_decision_rbf)"
   ]
  },
  {
   "cell_type": "code",
   "execution_count": 274,
   "id": "1ff5141d-7b8b-4188-98ef-a51317c6d3da",
   "metadata": {},
   "outputs": [
    {
     "name": "stdout",
     "output_type": "stream",
     "text": [
      "\n",
      "Accuracy: 0.97\n",
      "Precision: 0.00\n",
      "Recall: 0.00\n",
      "F1-score: 0.00\n",
      "\n",
      "[[19624     0]\n",
      " [  607     0]]\n"
     ]
    },
    {
     "name": "stderr",
     "output_type": "stream",
     "text": [
      "C:\\Users\\Alberto141\\anaconda3\\lib\\site-packages\\sklearn\\metrics\\_classification.py:1248: UndefinedMetricWarning: Precision is ill-defined and being set to 0.0 due to no predicted samples. Use `zero_division` parameter to control this behavior.\n",
      "  _warn_prf(average, modifier, msg_start, len(result))\n"
     ]
    }
   ],
   "source": [
    "metrics(y_train, y_pred_cross_predict_rbf)"
   ]
  },
  {
   "cell_type": "code",
   "execution_count": 271,
   "id": "cf704f17-8d81-4798-ae47-c598970494c3",
   "metadata": {},
   "outputs": [
    {
     "data": {
      "image/png": "[encoded data removed]",
      "text/plain": [
       "<Figure size 576x288 with 1 Axes>"
      ]
     },
     "metadata": {
      "needs_background": "light"
     },
     "output_type": "display_data"
    },
    {
     "data": {
      "image/png": "[encoded data removed]",
      "text/plain": [
       "<Figure size 576x432 with 1 Axes>"
      ]
     },
     "metadata": {
      "needs_background": "light"
     },
     "output_type": "display_data"
    }
   ],
   "source": [
    "plot_precision_recall_vs_threshold(precisions, recalls, thresholds)\n",
    "plot_precision_vs_recall(precisions, recalls)"
   ]
  },
  {
   "cell_type": "markdown",
   "id": "e4785705-88ab-4f06-896c-43ed41a0231d",
   "metadata": {},
   "source": [
    "# Fine tune Poly SVM with smote data set"
   ]
  },
  {
   "cell_type": "code",
   "execution_count": 277,
   "id": "e6cf6d2f-0189-4db6-af12-97d83b602853",
   "metadata": {},
   "outputs": [
    {
     "data": {
      "text/plain": [
       "GridSearchCV(cv=3, estimator=SVC(kernel='poly'),\n",
       "             param_grid=[{'C': [1, 2], 'coef0': [0, 1], 'degree': [3, 2]}],\n",
       "             return_train_score=True, scoring='neg_mean_squared_error')"
      ]
     },
     "execution_count": 277,
     "metadata": {},
     "output_type": "execute_result"
    }
   ],
   "source": [
    "from sklearn.model_selection import GridSearchCV\n",
    "svc = SVC(kernel=\"poly\")\n",
    "param_grid = [{'degree': [3, 2], 'C': [1, 2], 'coef0':[0, 1]}]\n",
    "\n",
    "grid_search = GridSearchCV(svc, param_grid, cv=3, scoring='neg_mean_squared_error', return_train_score=True)\n",
    "grid_search.fit(X_train_smote_prepared, y_train_smote)"
   ]
  },
  {
   "cell_type": "code",
   "execution_count": 284,
   "id": "976d27ec-ff67-44ab-a23a-33b774709173",
   "metadata": {},
   "outputs": [],
   "source": [
    "svc_best = grid_search.best_estimator_"
   ]
  },
  {
   "cell_type": "code",
   "execution_count": 281,
   "id": "a564e496-3455-4235-abaa-393b30c21943",
   "metadata": {},
   "outputs": [
    {
     "name": "stdout",
     "output_type": "stream",
     "text": [
      "0.6196518859411969 {'C': 1, 'coef0': 0, 'degree': 3}\n",
      "0.6072960281936928 {'C': 1, 'coef0': 0, 'degree': 2}\n",
      "0.5834813324867886 {'C': 1, 'coef0': 1, 'degree': 3}\n",
      "0.6061201956289807 {'C': 1, 'coef0': 1, 'degree': 2}\n",
      "0.6196518859411969 {'C': 2, 'coef0': 0, 'degree': 3}\n",
      "0.6070862167008199 {'C': 2, 'coef0': 0, 'degree': 2}\n",
      "0.5827385175431964 {'C': 2, 'coef0': 1, 'degree': 3}\n",
      "0.6061622357520648 {'C': 2, 'coef0': 1, 'degree': 2}\n"
     ]
    }
   ],
   "source": [
    "cvres = grid_search.cv_results_\n",
    "for mean_score, params in zip(cvres[\"mean_test_score\"], cvres[\"params\"]):\n",
    "    print(np.sqrt(-mean_score), params)"
   ]
  },
  {
   "cell_type": "code",
   "execution_count": 286,
   "id": "9df6376c-ce0d-435d-8aeb-9c5e498fa944",
   "metadata": {},
   "outputs": [
    {
     "name": "stdout",
     "output_type": "stream",
     "text": [
      "\n",
      "Accuracy: 0.50\n",
      "Precision: 0.03\n",
      "Recall: 0.55\n",
      "F1-score: 0.06\n",
      "\n",
      "[[3246 3295]\n",
      " [  91  112]]\n"
     ]
    }
   ],
   "source": [
    "y_pred_svc = svc_best.predict(X_test_prepared)\n",
    "metrics(y_test, y_pred_svc)"
   ]
  },
  {
   "cell_type": "code",
   "execution_count": 288,
   "id": "6cab2126-bfca-4aa2-a17c-f284f4704919",
   "metadata": {},
   "outputs": [
    {
     "data": {
      "text/plain": [
       "['svc_model.pkl']"
      ]
     },
     "execution_count": 288,
     "metadata": {},
     "output_type": "execute_result"
    }
   ],
   "source": [
    "import joblib\n",
    "\n",
    "joblib.dump(svc_best, 'svc_model.pkl')"
   ]
  },
  {
   "cell_type": "markdown",
   "id": "4629f76e-71d6-47e6-8cdc-676c340e96fa",
   "metadata": {},
   "source": [
    "## Others"
   ]
  },
  {
   "cell_type": "code",
   "execution_count": 168,
   "id": "89170857-2fb6-4319-9a08-71ed13aa6371",
   "metadata": {},
   "outputs": [
    {
     "data": {
      "text/plain": [
       "array([ 1,  1,  1,  1,  1,  1,  1,  7,  5, 13, 10, 14, 16,  2, 15, 12, 11,\n",
       "        1,  3,  1,  4,  1,  9,  8,  6])"
      ]
     },
     "execution_count": 168,
     "metadata": {},
     "output_type": "execute_result"
    }
   ],
   "source": [
    "from sklearn.feature_selection import RFE\n",
    "\n",
    "estimator=RandomForestClassifier(n_estimators=100, random_state=RANDOM_SEED)\n",
    "selector = RFE(estimator, n_features_to_select=10, step=1)\n",
    "selector = selector.fit(X_train_smote_prepared, y_train_smote)\n",
    "selector.support_\n",
    "\n",
    "\n",
    "selector.ranking_"
   ]
  },
  {
   "cell_type": "code",
   "execution_count": 185,
   "id": "4bb0e230-8712-4a3d-9be3-34ab525a3b74",
   "metadata": {},
   "outputs": [
    {
     "data": {
      "text/plain": [
       "array([ 3,  4,  2,  6,  5,  1,  7, 16, 14, 22, 19, 23, 25, 11, 24, 21, 20,\n",
       "       10, 12,  9, 13,  8, 18, 17, 15])"
      ]
     },
     "execution_count": 185,
     "metadata": {},
     "output_type": "execute_result"
    }
   ],
   "source": [
    "from sklearn.feature_selection import RFECV\n",
    "\n",
    "estimator=RandomForestClassifier(n_estimators=100, random_state=RANDOM_SEED)\n",
    "selector = RFECV(estimator, step=1, cv=3)\n",
    "selector = selector.fit(X_train_smote_prepared, y_train_smote)\n",
    "selector.support_\n",
    "\n",
    "\n",
    "selector.ranking_"
   ]
  },
  {
   "cell_type": "code",
   "execution_count": null,
   "id": "729f1e11-075a-4e46-8086-87e5d22721e9",
   "metadata": {},
   "outputs": [],
   "source": [
    "from sklearn.decomposition import KernelPCA\n",
    "\n",
    "rbf_pca = KernelPCA(n_components = 20, kernel=\"rbf\", gamma=0.04)\n",
    "X_reduced = rbf_pca.fit_transform(X_train_prepared)"
   ]
  }
 ],
 "metadata": {
  "kernelspec": {
   "display_name": "Python 3",
   "language": "python",
   "name": "python3"
  },
  "language_info": {
   "codemirror_mode": {
    "name": "ipython",
    "version": 3
   },
   "file_extension": ".py",
   "mimetype": "text/x-python",
   "name": "python",
   "nbconvert_exporter": "python",
   "pygments_lexer": "ipython3",
   "version": "3.8.5"
  }
 },
 "nbformat": 4,
 "nbformat_minor": 5
}
